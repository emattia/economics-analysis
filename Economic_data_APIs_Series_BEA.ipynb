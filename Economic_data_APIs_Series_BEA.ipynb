{
 "cells": [
  {
   "cell_type": "markdown",
   "metadata": {
    "colab_type": "text",
    "id": "view-in-github"
   },
   "source": [
    "<a href=\"https://colab.research.google.com/github/emattia/Geneformer/blob/main/Economic_data_APIs_Series_BEA.ipynb\" target=\"_parent\"><img src=\"https://colab.research.google.com/assets/colab-badge.svg\" alt=\"Open In Colab\"/></a>"
   ]
  },
  {
   "cell_type": "markdown",
   "metadata": {
    "id": "UG8sHxfPFBPq"
   },
   "source": [
    "## Introduction"
   ]
  },
  {
   "cell_type": "markdown",
   "metadata": {
    "id": "09Z87ujDFJFq"
   },
   "source": [
    "## Resources\n",
    "- [US Census Data user guide](https://www.census.gov/data/developers/guidance/api-user-guide.Example_API_Queries.html)\n",
    "- [Bureau of Economic Analysis (BEA) Data Application Programming Interface (API)\n",
    "](https://apps.bea.gov/api/_pdf/bea_web_service_api_user_guide.pdf)"
   ]
  },
  {
   "cell_type": "markdown",
   "metadata": {
    "id": "ho5MaQL9E3xy"
   },
   "source": [
    "## Dependencies"
   ]
  },
  {
   "cell_type": "code",
   "execution_count": null,
   "metadata": {},
   "outputs": [],
   "source": [
    "%env BEA_API_KEY=<>"
   ]
  },
  {
   "cell_type": "code",
   "execution_count": null,
   "metadata": {
    "id": "6rE73f2nEVfJ"
   },
   "outputs": [],
   "source": [
    "import os\n",
    "import requests\n",
    "import pandas as pd\n",
    "from pprint import pprint\n",
    "import seaborn as sns\n",
    "import matplotlib.pyplot as plt\n",
    "\n",
    "custom_params = {\n",
    "  \"axes.spines.right\": False,\n",
    "  \"axes.spines.top\": False\n",
    "}\n",
    "\n",
    "sns.set_theme(\n",
    "    context='notebook',\n",
    "    style='dark',\n",
    "    palette='deep',\n",
    "    font='sans-serif',\n",
    "    font_scale=1,\n",
    "    color_codes=True,\n",
    "    rc=custom_params\n",
    ")"
   ]
  },
  {
   "cell_type": "markdown",
   "metadata": {
    "id": "FI3MiL4aE7Ph"
   },
   "source": [
    "## Utility functions"
   ]
  },
  {
   "cell_type": "code",
   "execution_count": 4,
   "metadata": {
    "id": "2ZqZ4GtKE3Xy"
   },
   "outputs": [],
   "source": [
    "BEA_API_BASE_URL='https://apps.bea.gov/api/data'\n",
    "BEA_VALID_METHODS = {\n",
    "\n",
    "    ### Metadata API methods ###\n",
    "    'GETDATASETLIST': {\n",
    "        \"description\": \"Retrieves a list of the current datasets.\",\n",
    "        \"required_params\": None\n",
    "    },\n",
    "\n",
    "    'getparameterlist': {\n",
    "        \"description\": \"Retrieves a list of the current parameters for a dataset.\",\n",
    "        \"required_params\": ['datasetname']\n",
    "    },\n",
    "\n",
    "    'GetParameterValues': {\n",
    "        \"description\": \"Retrives a set of valid values for a dataset's parameter.\",\n",
    "        \"required_params\": ['datasetname', 'ParameterName']\n",
    "    },\n",
    "\n",
    "    'GetData': {\n",
    "        \"description\": \"\",\n",
    "        \"required_params\": [\"datasetname\"]\n",
    "    }\n",
    "\n",
    "}\n",
    "\n",
    "def bea_get_valid_methods():\n",
    "    return BEA_VALID_METHODS\n",
    "\n",
    "def bea_query(\n",
    "    method,\n",
    "    parameters=None,\n",
    "    result_format='JSON',\n",
    "    display_query=False\n",
    "):\n",
    "  \"\"\"\n",
    "  -----------\n",
    "  Description\n",
    "  -----------\n",
    "  Run a query against the BEA API.\n",
    "\n",
    "  ---------\n",
    "  Required Arguments\n",
    "  ---------\n",
    "  method (str): A method in BEA_VALID_METHODS.\n",
    "\n",
    "  ---------\n",
    "  Optional Arguments\n",
    "  ---------\n",
    "  parameters (dict[str, str]): A map of parameter unique to the method.\n",
    "  result_format (str): A value in [JSON].\n",
    "  display_query (bool): Whether to print the query URL for debugging.\n",
    "\n",
    "  -------\n",
    "  Returns\n",
    "  -------\n",
    "  dict: The JSON response from the BEA API.\n",
    "  \"\"\"\n",
    "\n",
    "  if method not in BEA_VALID_METHODS.keys():\n",
    "    raise ValueError(f'Invalid method: {method}')\n",
    "  if result_format not in ['JSON']:\n",
    "    raise ValueError(f'Invalid result_format: {result_format}')\n",
    "\n",
    "  required_params = BEA_VALID_METHODS[method]['required_params']\n",
    "  if required_params is not None:\n",
    "    for param in required_params:\n",
    "      if param not in parameters.keys():\n",
    "        raise ValueError(f'Missing required parameter: {param}')\n",
    "\n",
    "  query_url = f\"{BEA_API_BASE_URL}?UserID={os.environ['BEA_API_KEY']}&method={method}\"\n",
    "  if parameters is not None:\n",
    "    for param_name, param_value in parameters.items():\n",
    "      query_url = f\"{query_url}&{param_name}={param_value}\"\n",
    "  if result_format is not None:\n",
    "    query_url = f\"{query_url}&ResultFormat={result_format}\"\n",
    "  if display_query:\n",
    "    print(query_url)\n",
    "\n",
    "  response = requests.get(query_url)\n",
    "  response.raise_for_status()\n",
    "  if response.status_code == 429:\n",
    "    raise Exception('Too many requests. Try again in one hour.')\n",
    "  try:\n",
    "    return response.json()['BEAAPI']['Results']\n",
    "  except KeyError:\n",
    "    raise Exception(response.json())\n",
    "\n",
    "def bea_get_dataset_list():\n",
    "  results = bea_query(method='GETDATASETLIST')\n",
    "  return results['Dataset']\n",
    "\n",
    "def bea_get_parameter_list(dataset_name):\n",
    "  results = bea_query(\n",
    "    method='getparameterlist',\n",
    "    parameters={\n",
    "      'datasetname': dataset_name\n",
    "    }\n",
    "  )\n",
    "  return results['Parameter']\n",
    "\n",
    "def bea_get_parameter_values(\n",
    "    dataset_name,\n",
    "    parameter_name\n",
    "):\n",
    "  results = bea_query(\n",
    "    method='GetParameterValues',\n",
    "    parameters={\n",
    "      'datasetname': dataset_name,\n",
    "      'ParameterName': parameter_name\n",
    "    }\n",
    "  )\n",
    "  return results\n",
    "\n",
    "\n",
    "def bea_get_data(dataset_name, parameters):\n",
    "\n",
    "  parameter_list = bea_get_parameter_list(dataset_name)\n",
    "  parameter_names = [p['ParameterName'] for p in parameter_list]\n",
    "\n",
    "  for param_name, param_val in parameters.items():\n",
    "    if param_name not in parameter_names:\n",
    "      raise ValueError(f'Invalid parameter {param_name}, for dataset {dataset_name}. Valid parameters are: {parameter_names}')\n",
    "\n",
    "  for p in parameter_list:\n",
    "    if p['ParameterIsRequiredFlag'] == '1': # or p['ParameterName'] == 'TableName': # bug in API?\n",
    "      if p['ParameterName'] not in parameters.keys():\n",
    "        raise ValueError(f'Missing required parameter: {p[\"ParameterName\"]}')\n",
    "\n",
    "  results = bea_query(\n",
    "    method='GetData',\n",
    "    parameters={\n",
    "      'datasetname': dataset_name,\n",
    "      **parameters\n",
    "    },\n",
    "    display_query=True\n",
    "  )\n",
    "  return results\n",
    "\n",
    "def bea_pack_results(res, print_summary=False):\n",
    "  table_name = res['Statistic']\n",
    "  table_production_time = res['UTCProductionTime']\n",
    "  table_notes = [n['NoteText'] for n in res['Notes']]\n",
    "  table_data = res['Data']\n",
    "  if print_summary:\n",
    "    print(f\"\\nTable {table_name} produced at: {table_production_time}\")\n",
    "    print('\\n' + '\\n'.join(table_notes))\n",
    "\n",
    "  return pd.DataFrame(table_data)\n",
    "\n",
    "def bea_get_tablename_from_tableid(id):\n",
    "  res = bea_get_parameter_values('NIPA', 'TableName')\n",
    "  for table_info in res['ParamValue']:\n",
    "    if id in table_info['Description']:\n",
    "      return table_info['TableName']\n",
    "  return None"
   ]
  },
  {
   "cell_type": "code",
   "execution_count": 5,
   "metadata": {
    "colab": {
     "base_uri": "https://localhost:8080/"
    },
    "id": "uAQiPV39KZ7y",
    "outputId": "4f75d507-06f5-4a02-b6ed-c5b669ffafc9"
   },
   "outputs": [
    {
     "name": "stdout",
     "output_type": "stream",
     "text": [
      "[{'DatasetDescription': 'Standard NIPA tables', 'DatasetName': 'NIPA'},\n",
      " {'DatasetDescription': 'Standard NI underlying detail tables',\n",
      "  'DatasetName': 'NIUnderlyingDetail'},\n",
      " {'DatasetDescription': 'Multinational Enterprises', 'DatasetName': 'MNE'},\n",
      " {'DatasetDescription': 'Standard Fixed Assets tables',\n",
      "  'DatasetName': 'FixedAssets'},\n",
      " {'DatasetDescription': 'International Transactions Accounts',\n",
      "  'DatasetName': 'ITA'},\n",
      " {'DatasetDescription': 'International Investment Position',\n",
      "  'DatasetName': 'IIP'},\n",
      " {'DatasetDescription': 'Input-Output Data', 'DatasetName': 'InputOutput'},\n",
      " {'DatasetDescription': 'International Services Trade',\n",
      "  'DatasetName': 'IntlServTrade'},\n",
      " {'DatasetDescription': 'International Services Supplied Through Affiliates',\n",
      "  'DatasetName': 'IntlServSTA'},\n",
      " {'DatasetDescription': 'GDP by Industry', 'DatasetName': 'GDPbyIndustry'},\n",
      " {'DatasetDescription': 'Regional data sets', 'DatasetName': 'Regional'},\n",
      " {'DatasetDescription': 'Underlying GDP by Industry',\n",
      "  'DatasetName': 'UnderlyingGDPbyIndustry'},\n",
      " {'DatasetDescription': 'Metadata about other API datasets',\n",
      "  'DatasetName': 'APIDatasetMetaData'}]\n"
     ]
    }
   ],
   "source": [
    "pprint(bea_get_dataset_list())"
   ]
  },
  {
   "cell_type": "markdown",
   "metadata": {
    "id": "CCs1Q0jZsun1"
   },
   "source": [
    "## NIPA\n",
    "\n",
    "The DataSetName is NIPA. This dataset contains data from the National Income and Product Accounts which include measures of the value and composition of U.S.production and the incomes generated in producing it. NIPA data is provided on a table basis; individual tables contain between fewer than 10 to more\n",
    "than 200 distinct data series."
   ]
  },
  {
   "cell_type": "code",
   "execution_count": 5,
   "metadata": {
    "colab": {
     "base_uri": "https://localhost:8080/"
    },
    "id": "WLwq4NlEtfWB",
    "outputId": "89ec495e-c4de-45ad-922b-3284580ab0f3"
   },
   "outputs": [
    {
     "name": "stdout",
     "output_type": "stream",
     "text": [
      "[{'AllValue': '',\n",
      "  'MultipleAcceptedFlag': '1',\n",
      "  'ParameterDataType': 'string',\n",
      "  'ParameterDefaultValue': '',\n",
      "  'ParameterDescription': 'A - Annual, Q-Quarterly, M-Monthly',\n",
      "  'ParameterIsRequiredFlag': '1',\n",
      "  'ParameterName': 'Frequency'},\n",
      " {'AllValue': '',\n",
      "  'MultipleAcceptedFlag': '0',\n",
      "  'ParameterDataType': 'string',\n",
      "  'ParameterDefaultValue': 'N',\n",
      "  'ParameterDescription': 'A flag indicating that million-dollar data should '\n",
      "                          'be returned.',\n",
      "  'ParameterIsRequiredFlag': '0',\n",
      "  'ParameterName': 'ShowMillions'},\n",
      " {'AllValue': '',\n",
      "  'MultipleAcceptedFlag': '0',\n",
      "  'ParameterDataType': 'integer',\n",
      "  'ParameterDescription': 'The standard NIPA table identifier',\n",
      "  'ParameterIsRequiredFlag': '0',\n",
      "  'ParameterName': 'TableID'},\n",
      " {'AllValue': '',\n",
      "  'MultipleAcceptedFlag': '0',\n",
      "  'ParameterDataType': 'string',\n",
      "  'ParameterDescription': 'The new NIPA table identifier',\n",
      "  'ParameterIsRequiredFlag': '0',\n",
      "  'ParameterName': 'TableName'},\n",
      " {'AllValue': 'X',\n",
      "  'MultipleAcceptedFlag': '1',\n",
      "  'ParameterDataType': 'integer',\n",
      "  'ParameterDefaultValue': '',\n",
      "  'ParameterDescription': 'List of year(s) of data to retrieve (X for All)',\n",
      "  'ParameterIsRequiredFlag': '1',\n",
      "  'ParameterName': 'Year'}]\n"
     ]
    }
   ],
   "source": [
    "pprint(bea_get_parameter_list('NIPA'))"
   ]
  },
  {
   "cell_type": "markdown",
   "metadata": {
    "id": "Yl3JyCs611FC"
   },
   "source": [
    "### Utility functions"
   ]
  },
  {
   "cell_type": "code",
   "execution_count": 6,
   "metadata": {
    "id": "ayucYPjF12lA"
   },
   "outputs": [],
   "source": [
    "def bea_get_nipa_table_names(keywords=[]):\n",
    "\n",
    "  res = bea_get_parameter_values('NIPA', 'TableName')\n",
    "\n",
    "  keyword_related_nipa_table_names = {}\n",
    "  for table_info in res['ParamValue']:\n",
    "    for keyword in keywords:\n",
    "      if keyword.lower() in table_info['Description'].lower():\n",
    "        if keyword in keyword_related_nipa_table_names.keys():\n",
    "          keyword_related_nipa_table_names[keyword].append(table_info['TableName'])\n",
    "        else:\n",
    "          keyword_related_nipa_table_names[keyword] = [table_info['TableName']]\n",
    "        break\n",
    "  return keyword_related_nipa_table_names"
   ]
  },
  {
   "cell_type": "code",
   "execution_count": 7,
   "metadata": {
    "colab": {
     "base_uri": "https://localhost:8080/"
    },
    "id": "QdQnYguH2VVb",
    "outputId": "5a249319-804a-4f38-c724-fe4d9ae4c126"
   },
   "outputs": [
    {
     "name": "stdout",
     "output_type": "stream",
     "text": [
      "Found 43 tables.\n",
      "['T10101',\n",
      " 'T10102',\n",
      " 'T10103',\n",
      " 'T10104',\n",
      " 'T10105',\n",
      " 'T10106',\n",
      " 'T10107',\n",
      " 'T10108',\n",
      " 'T10109',\n",
      " 'T10110',\n",
      " 'T10111',\n",
      " 'T10201',\n",
      " 'T10202',\n",
      " 'T10203',\n",
      " 'T10204',\n",
      " 'T10205',\n",
      " 'T10206',\n",
      " 'T10401',\n",
      " 'T10403',\n",
      " 'T10404',\n",
      " 'T10405',\n",
      " 'T10406',\n",
      " 'T10501',\n",
      " 'T10502',\n",
      " 'T10503',\n",
      " 'T10504',\n",
      " 'T10505',\n",
      " 'T10506',\n",
      " 'T10701',\n",
      " 'T10703',\n",
      " 'T10704',\n",
      " 'T10705',\n",
      " 'T10706',\n",
      " 'T10803',\n",
      " 'T10806',\n",
      " 'T11701',\n",
      " 'T11705',\n",
      " 'T11706',\n",
      " 'T80103',\n",
      " 'T80104',\n",
      " 'T80105',\n",
      " 'T80106',\n",
      " 'T80111']\n"
     ]
    }
   ],
   "source": [
    "keyword_list = ['Gross Domestic Product']\n",
    "\n",
    "gdpish_tables = bea_get_nipa_table_names(keyword_list)\n",
    "total_found = 0\n",
    "for k,v in gdpish_tables.items():\n",
    "  total_found += len(v)\n",
    "print(f\"Found {total_found} tables.\")\n",
    "pprint(gdpish_tables['Gross Domestic Product'])"
   ]
  },
  {
   "cell_type": "markdown",
   "metadata": {
    "id": "V9q7pJDX1hCL"
   },
   "source": [
    "### GDP\n",
    "\n",
    "GDP datasets need a frequency of `Q` or `A`."
   ]
  },
  {
   "cell_type": "code",
   "execution_count": 8,
   "metadata": {
    "colab": {
     "base_uri": "https://localhost:8080/"
    },
    "id": "I3RBCRyu1ju5",
    "outputId": "6ac97029-9e58-43cb-f9e9-d3fcf019f74a"
   },
   "outputs": [
    {
     "name": "stdout",
     "output_type": "stream",
     "text": [
      "https://apps.bea.gov/api/data?UserID=85F57220-D987-4300-BEC9-B399CFF68EB0&method=GetData&datasetname=NIPA&Frequency=Q&Year=X&TableName=T10105&ResultFormat=JSON\n"
     ]
    }
   ],
   "source": [
    "# for table_name in gdpish_tables['Gross Domestic Product']:\n",
    "#   try:\n",
    "#     res = bea_get_data('NIPA', {'Frequency': 'Q', 'Year': 'X', 'TableName': table_name})\n",
    "#     break\n",
    "#   except:\n",
    "#     print(f'FAIL {table_name}')\n",
    "#     continue\n",
    "\n",
    "res = bea_get_data('NIPA', {\n",
    "    'Frequency': 'Q',\n",
    "    'Year': 'X',\n",
    "    'TableName': bea_get_tablename_from_tableid('Table 1.1.5. Gross Domestic Product')\n",
    "})"
   ]
  },
  {
   "cell_type": "code",
   "execution_count": 9,
   "metadata": {
    "colab": {
     "base_uri": "https://localhost:8080/"
    },
    "id": "AbzhwGpI45NA",
    "outputId": "c5f24c36-b279-4183-fefe-035e12148895"
   },
   "outputs": [
    {
     "name": "stdout",
     "output_type": "stream",
     "text": [
      "\n",
      "Table NIPA Table produced at: 2025-04-21T01:48:52.253\n",
      "\n",
      "Table 1.1.5. Gross Domestic Product [Billions of dollars] - LastRevised: March 27, 2025\n"
     ]
    }
   ],
   "source": [
    "gdp_df = bea_pack_results(res, print_summary=True)"
   ]
  },
  {
   "cell_type": "code",
   "execution_count": 10,
   "metadata": {
    "id": "a3mutNtY5wU9"
   },
   "outputs": [],
   "source": [
    "gdp_df['Datetime'] = pd.PeriodIndex(gdp_df['TimePeriod'], freq='Q').to_timestamp()\n",
    "gdp_df['DataNumeric'] = gdp_df['DataValue'].apply(lambda x: float(x.replace(',', '')))\n",
    "gdp_df['UNIT_MULT_Numeric'] = gdp_df['UNIT_MULT'].apply(lambda x: int(x))\n",
    "gdp_df['DataScaled'] = gdp_df['DataNumeric'] * 10**gdp_df['UNIT_MULT_Numeric']\n",
    "gdp_df['DataScaled (Trillion)'] = gdp_df['DataScaled'] / 10**12"
   ]
  },
  {
   "cell_type": "markdown",
   "metadata": {
    "id": "pPKgF8u5Lv37"
   },
   "source": [
    "#### GDP over time"
   ]
  },
  {
   "cell_type": "code",
   "execution_count": 20,
   "metadata": {
    "colab": {
     "base_uri": "https://localhost:8080/",
     "height": 450
    },
    "id": "7TyyRSMO_RIU",
    "outputId": "5809e919-119d-47cb-bc10-ca427a26e914"
   },
   "outputs": [
    {
     "data": {
      "image/png": "[encoded data removed]",
      "text/plain": [
       "<Figure size 800x500 with 1 Axes>"
      ]
     },
     "metadata": {},
     "output_type": "display_data"
    }
   ],
   "source": [
    "fig, ax = plt.subplots(1,1, figsize=(8,5))\n",
    "\n",
    "gdp_filtered = gdp_df[gdp_df['LineDescription'] == 'Gross domestic product']\n",
    "ax.plot(\n",
    "    gdp_filtered['Datetime'],\n",
    "    gdp_filtered['DataScaled (Trillion)'],\n",
    "    label='GDP ($T)'\n",
    ")\n",
    "\n",
    "imports_filtered = gdp_df[gdp_df['LineDescription'] == 'Imports']\n",
    "ax.plot(\n",
    "    imports_filtered['Datetime'],\n",
    "    imports_filtered['DataScaled (Trillion)'],\n",
    "    label='Imports ($T)'\n",
    ")\n",
    "\n",
    "exports_filtered = gdp_df[gdp_df['LineDescription'] == 'Exports']\n",
    "ax.plot(\n",
    "    exports_filtered['Datetime'],\n",
    "    exports_filtered['DataScaled (Trillion)'],\n",
    "    label='Exports ($T)'\n",
    ")\n",
    "\n",
    "# services_filtered = gdp_df[gdp_df['LineDescription'] == 'Services']\n",
    "# ax.plot(\n",
    "#     services_filtered['Datetime'],\n",
    "#     services_filtered['DataScaled (Trillion)'],\n",
    "#     label='Services ($T)'\n",
    "# )\n",
    "\n",
    "plt.legend()\n",
    "plt.show()"
   ]
  },
  {
   "cell_type": "markdown",
   "metadata": {
    "id": "F6Q9vtUILymo"
   },
   "source": [
    "#### Services breakdown"
   ]
  },
  {
   "cell_type": "code",
   "execution_count": 34,
   "metadata": {
    "colab": {
     "base_uri": "https://localhost:8080/",
     "height": 450
    },
    "id": "ie_Wwv3sGa21",
    "outputId": "b4026f48-8248-49c7-d929-6e6df7379a58"
   },
   "outputs": [
    {
     "data": {
      "image/png": "[encoded data removed]",
      "text/plain": [
       "<Figure size 800x500 with 1 Axes>"
      ]
     },
     "metadata": {},
     "output_type": "display_data"
    }
   ],
   "source": [
    "fig, ax = plt.subplots(1,1, figsize=(8,5))\n",
    "\n",
    "line_no_to_name = {\n",
    "    '6': 'Services - personal consumption expenditure',\n",
    "    '18': 'Services - exported',\n",
    "    '21': 'Services - imported'\n",
    "}\n",
    "\n",
    "services = gdp_df[gdp_df['LineDescription'] == 'Services']\n",
    "line_numbers = services['LineNumber'].unique()\n",
    "for line_number in line_numbers:\n",
    "  services_filtered = services[services['LineNumber'] == line_number]\n",
    "  ax.plot(\n",
    "    services_filtered['Datetime'],\n",
    "    services_filtered['DataScaled (Trillion)'],\n",
    "    label=line_no_to_name[line_number]\n",
    "  )\n",
    "\n",
    "plt.legend()\n",
    "plt.show()"
   ]
  },
  {
   "cell_type": "markdown",
   "metadata": {
    "id": "jrkvsvpDMf_Z"
   },
   "source": [
    "### Exports vs. Imports"
   ]
  },
  {
   "cell_type": "code",
   "execution_count": 73,
   "metadata": {
    "colab": {
     "base_uri": "https://localhost:8080/",
     "height": 488
    },
    "id": "4VsO5bYBMiCe",
    "outputId": "45d0dd0e-b197-49c2-86e4-f3b861e8b277"
   },
   "outputs": [
    {
     "data": {
      "image/png": "[encoded data removed]",
      "text/plain": [
       "<Figure size 1500x500 with 2 Axes>"
      ]
     },
     "metadata": {},
     "output_type": "display_data"
    }
   ],
   "source": [
    "fig, ax = plt.subplots(1,2, figsize=(15,5))\n",
    "\n",
    "date_cut = gdp_df['Datetime'].min()\n",
    "most_recent = gdp_df['Datetime'].max()\n",
    "\n",
    "president_terms = [\n",
    "    {\n",
    "        'start': '1933-03-04',  # Franklin D. Roosevelt (prior terms)\n",
    "        'end': '1941-01-19',\n",
    "        'color': 'b',\n",
    "        'name': 'Roosevelt'\n",
    "    },\n",
    "    {\n",
    "        'start': '1941-01-20',  # Franklin D. Roosevelt (wartime term)\n",
    "        'end': '1945-04-11',   # Date of FDR's death\n",
    "        'color': 'b',\n",
    "        'name': 'Roosevelt'\n",
    "    },\n",
    "    {\n",
    "        'start': '1945-04-12',  # Harry S. Truman (following FDR's death)\n",
    "        'end': '1949-01-19',\n",
    "        'color': 'b',\n",
    "        'name': 'Truman'\n",
    "    },\n",
    "    {\n",
    "        'start': '1949-01-20',  # Harry S. Truman (elected term)\n",
    "        'end': '1953-01-19',\n",
    "        'color': 'b',\n",
    "        'name': 'Truman'\n",
    "    },\n",
    "    {\n",
    "        'start': '1953-01-20',  # Dwight D. Eisenhower\n",
    "        'end': '1961-01-19',\n",
    "        'color': 'r',\n",
    "        'name': 'Eisenhower'\n",
    "    },\n",
    "    {\n",
    "        'start': '1961-01-20',  # John F. Kennedy\n",
    "        'end': '1963-11-21',   # Day before JFK's assassination\n",
    "        'color': 'b',\n",
    "        'name': 'Kennedy'\n",
    "    },\n",
    "    {\n",
    "        'start': '1963-11-22',  # Lyndon B. Johnson (following JFK's assassination)\n",
    "        'end': '1965-01-19',\n",
    "        'color': 'b',\n",
    "        'name': 'Johnson'\n",
    "    },\n",
    "    {\n",
    "        'start': '1965-01-20',  # Lyndon B. Johnson (elected term)\n",
    "        'end': '1969-01-19',\n",
    "        'color': 'b',\n",
    "        'name': 'Johnson'\n",
    "    },\n",
    "    {\n",
    "        'start': '1969-01-20',  # Richard Nixon\n",
    "        'end': '1974-08-08',   # Day before Nixon's resignation\n",
    "        'color': 'r',\n",
    "        'name': 'Nixon'\n",
    "    },\n",
    "    {\n",
    "        'start': '1974-08-09',  # Gerald Ford\n",
    "        'end': '1977-01-19',\n",
    "        'color': 'r',\n",
    "        'name': 'Ford'\n",
    "    },\n",
    "    {\n",
    "        'start': '1977-01-20',  # Jimmy Carter\n",
    "        'end': '1981-01-19',\n",
    "        'color': 'b',\n",
    "        'name': 'Carter'\n",
    "    },\n",
    "    {\n",
    "        'start': '1981-01-20',  # Ronald Reagan\n",
    "        'end': '1989-01-19',\n",
    "        'color': 'r',\n",
    "        'name': 'Reagan'\n",
    "    },\n",
    "    {\n",
    "        'start': '1989-01-20',  # George H.W. Bush\n",
    "        'end': '1993-01-19',\n",
    "        'color': 'r',\n",
    "        'name': 'Bush'\n",
    "    },\n",
    "    {\n",
    "        'start': '1993-01-20',  # Bill Clinton\n",
    "        'end': '2001-01-19',\n",
    "        'color': 'b',\n",
    "        'name': 'Clinton'\n",
    "    },\n",
    "    {\n",
    "        'start': '2001-01-20',  # George W. Bush\n",
    "        'end': '2009-01-19',\n",
    "        'color': 'r',\n",
    "        'name': 'W. Bush'\n",
    "    },\n",
    "    {\n",
    "        'start': '2009-01-20',  # Barack Obama\n",
    "        'end': '2017-01-19',\n",
    "        'color': 'b',\n",
    "        'name': 'Obama'\n",
    "    },\n",
    "    {\n",
    "        'start': '2017-01-20',  # Donald Trump (first term)\n",
    "        'end': '2021-01-19',\n",
    "        'color': 'r',\n",
    "        'name': 'Trump'\n",
    "    },\n",
    "    {\n",
    "        'start': '2021-01-20',  # Joe Biden\n",
    "        'end': '2025-01-19',\n",
    "        'color': 'b',\n",
    "        'name': 'Biden'\n",
    "    },\n",
    "    {\n",
    "        'start': '2025-01-20',  # Donald Trump (second term)\n",
    "        'end': '2029-01-19',\n",
    "        'color': 'r',\n",
    "        'name': 'Trump'\n",
    "    }\n",
    "]\n",
    "\n",
    "if pd.to_datetime(president_terms[0]['start']) > date_cut:\n",
    "  raise ValueError(f'Extend president terms list to include date before {date_cut}')\n",
    "\n",
    "data_filtered = gdp_df[gdp_df['Datetime'] >= date_cut]\n",
    "\n",
    "line_no_to_name = {\n",
    "    '16': ('Exports', 'g', '-'),\n",
    "    '17': ('Goods - exported', 'g', '--'),\n",
    "    '18': ('Services - exported', 'g', '-.'),\n",
    "    '19': ('Imports', 'r', '-'),\n",
    "    '20': ('Goods - imported', 'r', '--'),\n",
    "    '21': ('Services - imported', 'r', '-.')\n",
    "}\n",
    "\n",
    "for line_number in line_no_to_name.keys():\n",
    "  line_filtered = data_filtered[data_filtered['LineNumber'] == line_number]\n",
    "  ax[0].plot(\n",
    "    line_filtered['Datetime'],\n",
    "    line_filtered['DataScaled (Trillion)'],\n",
    "    label=line_no_to_name[line_number][0],\n",
    "    color=line_no_to_name[line_number][1],\n",
    "    linestyle=line_no_to_name[line_number][2]\n",
    "  )\n",
    "\n",
    "exports_over_imports_ratio = data_filtered[data_filtered['LineNumber'] == '16']['DataScaled (Trillion)'].values / data_filtered[data_filtered['LineNumber'] == '19']['DataScaled (Trillion)'].values\n",
    "goods_exports_over_goods_imports_ratio = data_filtered[data_filtered['LineNumber'] == '17']['DataScaled (Trillion)'].values / data_filtered[data_filtered['LineNumber'] == '20']['DataScaled (Trillion)'].values\n",
    "services_exports_over_services_imports_ratio = data_filtered[data_filtered['LineNumber'] == '18']['DataScaled (Trillion)'].values / data_filtered[data_filtered['LineNumber'] == '21']['DataScaled (Trillion)'].values\n",
    "\n",
    "ax[1].plot(\n",
    "    data_filtered[data_filtered['LineNumber'] == '16']['Datetime'],\n",
    "    exports_over_imports_ratio,\n",
    "    label='Exports / Imports',\n",
    "    color='k',\n",
    "    linestyle='-'\n",
    ")\n",
    "ax[1].plot(\n",
    "    data_filtered[data_filtered['LineNumber'] == '17']['Datetime'],\n",
    "    goods_exports_over_goods_imports_ratio,\n",
    "    label='Goods Exports / Goods Imports',\n",
    "    color='k',\n",
    "    linestyle='--'\n",
    ")\n",
    "ax[1].plot(\n",
    "    data_filtered[data_filtered['LineNumber'] == '18']['Datetime'],\n",
    "    services_exports_over_services_imports_ratio,\n",
    "    label='Services Exports / Services Imports',\n",
    "    color='k',\n",
    "    linestyle='-.'\n",
    ")\n",
    "\n",
    "for term in president_terms:\n",
    "  ax[0].axvspan(term['start'], term['end'], color=term['color'], alpha=0.1)\n",
    "  ax[1].axvspan(term['start'], term['end'], color=term['color'], alpha=0.1)\n",
    "\n",
    "ax[0].legend(\n",
    "    bbox_to_anchor=(.05, 1.1),\n",
    "    loc='upper left',\n",
    "    borderaxespad=0.\n",
    ")\n",
    "ax[1].legend(\n",
    "    bbox_to_anchor=(.05, 1.1),\n",
    "    loc='upper left',\n",
    "    borderaxespad=0.\n",
    ")\n",
    "ax[0].set_xlim(date_cut, most_recent)\n",
    "ax[1].set_xlim(date_cut, most_recent)\n",
    "ax[0].set_ylabel('GDP (Trillion USD)')\n",
    "ax[1].set_ylabel('Ratio of Exports over Imports')\n",
    "plt.show()"
   ]
  },
  {
   "cell_type": "markdown",
   "metadata": {
    "id": "flBuubF5Fn-D"
   },
   "source": [
    "#### National Income"
   ]
  },
  {
   "cell_type": "code",
   "execution_count": 1,
   "metadata": {
    "colab": {
     "base_uri": "https://localhost:8080/",
     "height": 216
    },
    "id": "8H93lqbuFpS3",
    "outputId": "7b8ef0f9-4e8b-4334-eb9c-d500091e51d3"
   },
   "outputs": [
    {
     "ename": "NameError",
     "evalue": "name 'bea_get_data' is not defined",
     "output_type": "error",
     "traceback": [
      "\u001b[0;31m---------------------------------------------------------------------------\u001b[0m",
      "\u001b[0;31mNameError\u001b[0m                                 Traceback (most recent call last)",
      "\u001b[0;32m<ipython-input-1-06901c5609a5>\u001b[0m in \u001b[0;36m<cell line: 0>\u001b[0;34m()\u001b[0m\n\u001b[0;32m----> 1\u001b[0;31m res = bea_get_data('NIPA', {\n\u001b[0m\u001b[1;32m      2\u001b[0m     \u001b[0;34m'Frequency'\u001b[0m\u001b[0;34m:\u001b[0m \u001b[0;34m'Q'\u001b[0m\u001b[0;34m,\u001b[0m\u001b[0;34m\u001b[0m\u001b[0;34m\u001b[0m\u001b[0m\n\u001b[1;32m      3\u001b[0m     \u001b[0;34m'Year'\u001b[0m\u001b[0;34m:\u001b[0m \u001b[0;34m'X'\u001b[0m\u001b[0;34m,\u001b[0m\u001b[0;34m\u001b[0m\u001b[0;34m\u001b[0m\u001b[0m\n\u001b[1;32m      4\u001b[0m     \u001b[0;34m'TableName'\u001b[0m\u001b[0;34m:\u001b[0m \u001b[0mbea_get_tablename_from_tableid\u001b[0m\u001b[0;34m(\u001b[0m\u001b[0;34m'Table 6.1D. National Income Without Capital Consumption Adjustment by Industry'\u001b[0m\u001b[0;34m)\u001b[0m\u001b[0;34m\u001b[0m\u001b[0;34m\u001b[0m\u001b[0m\n\u001b[1;32m      5\u001b[0m })\n",
      "\u001b[0;31mNameError\u001b[0m: name 'bea_get_data' is not defined"
     ]
    }
   ],
   "source": [
    "res = bea_get_data('NIPA', {\n",
    "    'Frequency': 'Q',\n",
    "    'Year': 'X',\n",
    "    'TableName': bea_get_tablename_from_tableid('Table 6.1D. National Income Without Capital Consumption Adjustment by Industry')\n",
    "})"
   ]
  },
  {
   "cell_type": "code",
   "execution_count": null,
   "metadata": {
    "id": "LpgE5z5mF3DB"
   },
   "outputs": [],
   "source": [
    "gdp_df = bea_pack_results(res, print_summary=True)\n",
    "gdp_df['Datetime'] = pd.PeriodIndex(gdp_df['TimePeriod'], freq='Q').to_timestamp()\n",
    "gdp_df['DataNumeric'] = gdp_df['DataValue'].apply(lambda x: float(x.replace(',', '')))\n",
    "gdp_df['UNIT_MULT_Numeric'] = gdp_df['UNIT_MULT'].apply(lambda x: int(x))\n",
    "gdp_df['DataScaled'] = gdp_df['DataNumeric'] * 10**gdp_df['UNIT_MULT_Numeric']\n",
    "gdp_df['DataScaled (Trillion)'] = gdp_df['DataScaled'] / 10**12"
   ]
  },
  {
   "cell_type": "code",
   "execution_count": null,
   "metadata": {
    "id": "4ZmcSWXjF3pM"
   },
   "outputs": [],
   "source": [
    "gdp_df"
   ]
  },
  {
   "cell_type": "markdown",
   "metadata": {
    "id": "3FTaLbMM1fiN"
   },
   "source": [
    "### Wages"
   ]
  },
  {
   "cell_type": "code",
   "execution_count": 53,
   "metadata": {
    "id": "HLa-rDSgKdgM"
   },
   "outputs": [],
   "source": [
    "keyword = 'wages'\n",
    "\n",
    "keyword_related_nipa_table_names = []\n",
    "for table_info in res['ParamValue']:\n",
    "  if keyword in table_info['Description'].lower():\n",
    "    keyword_related_nipa_table_names.append(table_info['TableName'])"
   ]
  },
  {
   "cell_type": "code",
   "execution_count": 54,
   "metadata": {
    "colab": {
     "base_uri": "https://localhost:8080/"
    },
    "id": "l-ef0V6pljie",
    "outputId": "97ccb7d9-f431-421a-f356-20ac0d5847b4"
   },
   "outputs": [
    {
     "data": {
      "text/plain": [
       "['T20200A',\n",
       " 'T20200B',\n",
       " 'T20700A',\n",
       " 'T20700B',\n",
       " 'T60300A',\n",
       " 'T60300B',\n",
       " 'T60300C',\n",
       " 'T60300D',\n",
       " 'T60600A',\n",
       " 'T60600B',\n",
       " 'T60600C',\n",
       " 'T60600D',\n",
       " 'T70800',\n",
       " 'T71800']"
      ]
     },
     "execution_count": 54,
     "metadata": {},
     "output_type": "execute_result"
    }
   ],
   "source": [
    "keyword_related_nipa_table_names"
   ]
  },
  {
   "cell_type": "code",
   "execution_count": 88,
   "metadata": {
    "colab": {
     "base_uri": "https://localhost:8080/"
    },
    "id": "vrWzT87hr8Zh",
    "outputId": "b0ffefd0-3e6e-4b26-a4b1-709afbfb799f"
   },
   "outputs": [
    {
     "name": "stdout",
     "output_type": "stream",
     "text": [
      "https://apps.bea.gov/api/data?UserID=85F57220-D987-4300-BEC9-B399CFF68EB0&method=GetData&datasetname=NIPA&Frequency=M&Year=X&TableName=T20700A&ResultFormat=JSON\n"
     ]
    }
   ],
   "source": [
    "res = bea_get_data('NIPA', {'Frequency': 'M', 'Year': 'X', 'TableName': 'T20700A'})"
   ]
  },
  {
   "cell_type": "code",
   "execution_count": 79,
   "metadata": {
    "colab": {
     "base_uri": "https://localhost:8080/",
     "height": 295
    },
    "id": "Q7YFwdLrqO3d",
    "outputId": "516f7317-90b9-48da-d370-9580cd591eeb"
   },
   "outputs": [
    {
     "name": "stdout",
     "output_type": "stream",
     "text": [
      "\n",
      "Table NIPA Table produced at: 2025-04-21T00:11:28.050\n",
      "\n",
      "Table 2.7A. Wages and Salaries by Industry, Monthly [Billions of dollars; months are seasonally adjusted at annual rates] - LastRevised: September 29, 2023\n",
      "Note. Estimates in this table are based on the Standard Industrial Classification (SIC).\n"
     ]
    },
    {
     "data": {
      "application/vnd.google.colaboratory.intrinsic+json": {
       "summary": "{\n  \"name\": \"df\",\n  \"rows\": 3528,\n  \"fields\": [\n    {\n      \"column\": \"TableName\",\n      \"properties\": {\n        \"dtype\": \"category\",\n        \"num_unique_values\": 1,\n        \"samples\": [\n          \"T20700A\"\n        ],\n        \"semantic_type\": \"\",\n        \"description\": \"\"\n      }\n    },\n    {\n      \"column\": \"SeriesCode\",\n      \"properties\": {\n        \"dtype\": \"category\",\n        \"num_unique_values\": 7,\n        \"samples\": [\n          \"A034RC\"\n        ],\n        \"semantic_type\": \"\",\n        \"description\": \"\"\n      }\n    },\n    {\n      \"column\": \"LineNumber\",\n      \"properties\": {\n        \"dtype\": \"category\",\n        \"num_unique_values\": 7,\n        \"samples\": [\n          \"1\"\n        ],\n        \"semantic_type\": \"\",\n        \"description\": \"\"\n      }\n    },\n    {\n      \"column\": \"LineDescription\",\n      \"properties\": {\n        \"dtype\": \"category\",\n        \"num_unique_values\": 7,\n        \"samples\": [\n          \"Wages and salaries\"\n        ],\n        \"semantic_type\": \"\",\n        \"description\": \"\"\n      }\n    },\n    {\n      \"column\": \"TimePeriod\",\n      \"properties\": {\n        \"dtype\": \"category\",\n        \"num_unique_values\": 504,\n        \"samples\": [\n          \"1973M06\"\n        ],\n        \"semantic_type\": \"\",\n        \"description\": \"\"\n      }\n    },\n    {\n      \"column\": \"METRIC_NAME\",\n      \"properties\": {\n        \"dtype\": \"category\",\n        \"num_unique_values\": 1,\n        \"samples\": [\n          \"Current Dollars\"\n        ],\n        \"semantic_type\": \"\",\n        \"description\": \"\"\n      }\n    },\n    {\n      \"column\": \"CL_UNIT\",\n      \"properties\": {\n        \"dtype\": \"category\",\n        \"num_unique_values\": 1,\n        \"samples\": [\n          \"Level\"\n        ],\n        \"semantic_type\": \"\",\n        \"description\": \"\"\n      }\n    },\n    {\n      \"column\": \"UNIT_MULT\",\n      \"properties\": {\n        \"dtype\": \"category\",\n        \"num_unique_values\": 1,\n        \"samples\": [\n          \"6\"\n        ],\n        \"semantic_type\": \"\",\n        \"description\": \"\"\n      }\n    },\n    {\n      \"column\": \"DataValue\",\n      \"properties\": {\n        \"dtype\": \"string\",\n        \"num_unique_values\": 3526,\n        \"samples\": [\n          \"2,061,145\"\n        ],\n        \"semantic_type\": \"\",\n        \"description\": \"\"\n      }\n    },\n    {\n      \"column\": \"NoteRef\",\n      \"properties\": {\n        \"dtype\": \"category\",\n        \"num_unique_values\": 1,\n        \"samples\": [\n          \"T20700A\"\n        ],\n        \"semantic_type\": \"\",\n        \"description\": \"\"\n      }\n    }\n  ]\n}",
       "type": "dataframe",
       "variable_name": "df"
      },
      "text/html": [
       "\n",
       "  <div id=\"df-db0580d5-7cd7-4c7f-9607-be3f3be73d7f\" class=\"colab-df-container\">\n",
       "    <div>\n",
       "<style scoped>\n",
       "    .dataframe tbody tr th:only-of-type {\n",
       "        vertical-align: middle;\n",
       "    }\n",
       "\n",
       "    .dataframe tbody tr th {\n",
       "        vertical-align: top;\n",
       "    }\n",
       "\n",
       "    .dataframe thead th {\n",
       "        text-align: right;\n",
       "    }\n",
       "</style>\n",
       "<table border=\"1\" class=\"dataframe\">\n",
       "  <thead>\n",
       "    <tr style=\"text-align: right;\">\n",
       "      <th></th>\n",
       "      <th>TableName</th>\n",
       "      <th>SeriesCode</th>\n",
       "      <th>LineNumber</th>\n",
       "      <th>LineDescription</th>\n",
       "      <th>TimePeriod</th>\n",
       "      <th>METRIC_NAME</th>\n",
       "      <th>CL_UNIT</th>\n",
       "      <th>UNIT_MULT</th>\n",
       "      <th>DataValue</th>\n",
       "      <th>NoteRef</th>\n",
       "    </tr>\n",
       "  </thead>\n",
       "  <tbody>\n",
       "    <tr>\n",
       "      <th>0</th>\n",
       "      <td>T20700A</td>\n",
       "      <td>A034RC</td>\n",
       "      <td>1</td>\n",
       "      <td>Wages and salaries</td>\n",
       "      <td>1959M01</td>\n",
       "      <td>Current Dollars</td>\n",
       "      <td>Level</td>\n",
       "      <td>6</td>\n",
       "      <td>252,298</td>\n",
       "      <td>T20700A</td>\n",
       "    </tr>\n",
       "    <tr>\n",
       "      <th>1</th>\n",
       "      <td>T20700A</td>\n",
       "      <td>A034RC</td>\n",
       "      <td>1</td>\n",
       "      <td>Wages and salaries</td>\n",
       "      <td>1959M02</td>\n",
       "      <td>Current Dollars</td>\n",
       "      <td>Level</td>\n",
       "      <td>6</td>\n",
       "      <td>253,622</td>\n",
       "      <td>T20700A</td>\n",
       "    </tr>\n",
       "    <tr>\n",
       "      <th>2</th>\n",
       "      <td>T20700A</td>\n",
       "      <td>A034RC</td>\n",
       "      <td>1</td>\n",
       "      <td>Wages and salaries</td>\n",
       "      <td>1959M03</td>\n",
       "      <td>Current Dollars</td>\n",
       "      <td>Level</td>\n",
       "      <td>6</td>\n",
       "      <td>256,113</td>\n",
       "      <td>T20700A</td>\n",
       "    </tr>\n",
       "    <tr>\n",
       "      <th>3</th>\n",
       "      <td>T20700A</td>\n",
       "      <td>A034RC</td>\n",
       "      <td>1</td>\n",
       "      <td>Wages and salaries</td>\n",
       "      <td>1959M04</td>\n",
       "      <td>Current Dollars</td>\n",
       "      <td>Level</td>\n",
       "      <td>6</td>\n",
       "      <td>258,588</td>\n",
       "      <td>T20700A</td>\n",
       "    </tr>\n",
       "    <tr>\n",
       "      <th>4</th>\n",
       "      <td>T20700A</td>\n",
       "      <td>A034RC</td>\n",
       "      <td>1</td>\n",
       "      <td>Wages and salaries</td>\n",
       "      <td>1959M05</td>\n",
       "      <td>Current Dollars</td>\n",
       "      <td>Level</td>\n",
       "      <td>6</td>\n",
       "      <td>260,792</td>\n",
       "      <td>T20700A</td>\n",
       "    </tr>\n",
       "  </tbody>\n",
       "</table>\n",
       "</div>\n",
       "    <div class=\"colab-df-buttons\">\n",
       "\n",
       "  <div class=\"colab-df-container\">\n",
       "    <button class=\"colab-df-convert\" onclick=\"convertToInteractive('df-db0580d5-7cd7-4c7f-9607-be3f3be73d7f')\"\n",
       "            title=\"Convert this dataframe to an interactive table.\"\n",
       "            style=\"display:none;\">\n",
       "\n",
       "  <svg xmlns=\"http://www.w3.org/2000/svg\" height=\"24px\" viewBox=\"0 -960 960 960\">\n",
       "    <path d=\"M120-120v-720h720v720H120Zm60-500h600v-160H180v160Zm220 220h160v-160H400v160Zm0 220h160v-160H400v160ZM180-400h160v-160H180v160Zm440 0h160v-160H620v160ZM180-180h160v-160H180v160Zm440 0h160v-160H620v160Z\"/>\n",
       "  </svg>\n",
       "    </button>\n",
       "\n",
       "  <style>\n",
       "    .colab-df-container {\n",
       "      display:flex;\n",
       "      gap: 12px;\n",
       "    }\n",
       "\n",
       "    .colab-df-convert {\n",
       "      background-color: #E8F0FE;\n",
       "      border: none;\n",
       "      border-radius: 50%;\n",
       "      cursor: pointer;\n",
       "      display: none;\n",
       "      fill: #1967D2;\n",
       "      height: 32px;\n",
       "      padding: 0 0 0 0;\n",
       "      width: 32px;\n",
       "    }\n",
       "\n",
       "    .colab-df-convert:hover {\n",
       "      background-color: #E2EBFA;\n",
       "      box-shadow: 0px 1px 2px rgba(60, 64, 67, 0.3), 0px 1px 3px 1px rgba(60, 64, 67, 0.15);\n",
       "      fill: #174EA6;\n",
       "    }\n",
       "\n",
       "    .colab-df-buttons div {\n",
       "      margin-bottom: 4px;\n",
       "    }\n",
       "\n",
       "    [theme=dark] .colab-df-convert {\n",
       "      background-color: #3B4455;\n",
       "      fill: #D2E3FC;\n",
       "    }\n",
       "\n",
       "    [theme=dark] .colab-df-convert:hover {\n",
       "      background-color: #434B5C;\n",
       "      box-shadow: 0px 1px 3px 1px rgba(0, 0, 0, 0.15);\n",
       "      filter: drop-shadow(0px 1px 2px rgba(0, 0, 0, 0.3));\n",
       "      fill: #FFFFFF;\n",
       "    }\n",
       "  </style>\n",
       "\n",
       "    <script>\n",
       "      const buttonEl =\n",
       "        document.querySelector('#df-db0580d5-7cd7-4c7f-9607-be3f3be73d7f button.colab-df-convert');\n",
       "      buttonEl.style.display =\n",
       "        google.colab.kernel.accessAllowed ? 'block' : 'none';\n",
       "\n",
       "      async function convertToInteractive(key) {\n",
       "        const element = document.querySelector('#df-db0580d5-7cd7-4c7f-9607-be3f3be73d7f');\n",
       "        const dataTable =\n",
       "          await google.colab.kernel.invokeFunction('convertToInteractive',\n",
       "                                                    [key], {});\n",
       "        if (!dataTable) return;\n",
       "\n",
       "        const docLinkHtml = 'Like what you see? Visit the ' +\n",
       "          '<a target=\"_blank\" href=https://colab.research.google.com/notebooks/data_table.ipynb>data table notebook</a>'\n",
       "          + ' to learn more about interactive tables.';\n",
       "        element.innerHTML = '';\n",
       "        dataTable['output_type'] = 'display_data';\n",
       "        await google.colab.output.renderOutput(dataTable, element);\n",
       "        const docLink = document.createElement('div');\n",
       "        docLink.innerHTML = docLinkHtml;\n",
       "        element.appendChild(docLink);\n",
       "      }\n",
       "    </script>\n",
       "  </div>\n",
       "\n",
       "\n",
       "<div id=\"df-e85859e0-6968-4fae-a4ff-7aa7d746c262\">\n",
       "  <button class=\"colab-df-quickchart\" onclick=\"quickchart('df-e85859e0-6968-4fae-a4ff-7aa7d746c262')\"\n",
       "            title=\"Suggest charts\"\n",
       "            style=\"display:none;\">\n",
       "\n",
       "<svg xmlns=\"http://www.w3.org/2000/svg\" height=\"24px\"viewBox=\"0 0 24 24\"\n",
       "     width=\"24px\">\n",
       "    <g>\n",
       "        <path d=\"M19 3H5c-1.1 0-2 .9-2 2v14c0 1.1.9 2 2 2h14c1.1 0 2-.9 2-2V5c0-1.1-.9-2-2-2zM9 17H7v-7h2v7zm4 0h-2V7h2v10zm4 0h-2v-4h2v4z\"/>\n",
       "    </g>\n",
       "</svg>\n",
       "  </button>\n",
       "\n",
       "<style>\n",
       "  .colab-df-quickchart {\n",
       "      --bg-color: #E8F0FE;\n",
       "      --fill-color: #1967D2;\n",
       "      --hover-bg-color: #E2EBFA;\n",
       "      --hover-fill-color: #174EA6;\n",
       "      --disabled-fill-color: #AAA;\n",
       "      --disabled-bg-color: #DDD;\n",
       "  }\n",
       "\n",
       "  [theme=dark] .colab-df-quickchart {\n",
       "      --bg-color: #3B4455;\n",
       "      --fill-color: #D2E3FC;\n",
       "      --hover-bg-color: #434B5C;\n",
       "      --hover-fill-color: #FFFFFF;\n",
       "      --disabled-bg-color: #3B4455;\n",
       "      --disabled-fill-color: #666;\n",
       "  }\n",
       "\n",
       "  .colab-df-quickchart {\n",
       "    background-color: var(--bg-color);\n",
       "    border: none;\n",
       "    border-radius: 50%;\n",
       "    cursor: pointer;\n",
       "    display: none;\n",
       "    fill: var(--fill-color);\n",
       "    height: 32px;\n",
       "    padding: 0;\n",
       "    width: 32px;\n",
       "  }\n",
       "\n",
       "  .colab-df-quickchart:hover {\n",
       "    background-color: var(--hover-bg-color);\n",
       "    box-shadow: 0 1px 2px rgba(60, 64, 67, 0.3), 0 1px 3px 1px rgba(60, 64, 67, 0.15);\n",
       "    fill: var(--button-hover-fill-color);\n",
       "  }\n",
       "\n",
       "  .colab-df-quickchart-complete:disabled,\n",
       "  .colab-df-quickchart-complete:disabled:hover {\n",
       "    background-color: var(--disabled-bg-color);\n",
       "    fill: var(--disabled-fill-color);\n",
       "    box-shadow: none;\n",
       "  }\n",
       "\n",
       "  .colab-df-spinner {\n",
       "    border: 2px solid var(--fill-color);\n",
       "    border-color: transparent;\n",
       "    border-bottom-color: var(--fill-color);\n",
       "    animation:\n",
       "      spin 1s steps(1) infinite;\n",
       "  }\n",
       "\n",
       "  @keyframes spin {\n",
       "    0% {\n",
       "      border-color: transparent;\n",
       "      border-bottom-color: var(--fill-color);\n",
       "      border-left-color: var(--fill-color);\n",
       "    }\n",
       "    20% {\n",
       "      border-color: transparent;\n",
       "      border-left-color: var(--fill-color);\n",
       "      border-top-color: var(--fill-color);\n",
       "    }\n",
       "    30% {\n",
       "      border-color: transparent;\n",
       "      border-left-color: var(--fill-color);\n",
       "      border-top-color: var(--fill-color);\n",
       "      border-right-color: var(--fill-color);\n",
       "    }\n",
       "    40% {\n",
       "      border-color: transparent;\n",
       "      border-right-color: var(--fill-color);\n",
       "      border-top-color: var(--fill-color);\n",
       "    }\n",
       "    60% {\n",
       "      border-color: transparent;\n",
       "      border-right-color: var(--fill-color);\n",
       "    }\n",
       "    80% {\n",
       "      border-color: transparent;\n",
       "      border-right-color: var(--fill-color);\n",
       "      border-bottom-color: var(--fill-color);\n",
       "    }\n",
       "    90% {\n",
       "      border-color: transparent;\n",
       "      border-bottom-color: var(--fill-color);\n",
       "    }\n",
       "  }\n",
       "</style>\n",
       "\n",
       "  <script>\n",
       "    async function quickchart(key) {\n",
       "      const quickchartButtonEl =\n",
       "        document.querySelector('#' + key + ' button');\n",
       "      quickchartButtonEl.disabled = true;  // To prevent multiple clicks.\n",
       "      quickchartButtonEl.classList.add('colab-df-spinner');\n",
       "      try {\n",
       "        const charts = await google.colab.kernel.invokeFunction(\n",
       "            'suggestCharts', [key], {});\n",
       "      } catch (error) {\n",
       "        console.error('Error during call to suggestCharts:', error);\n",
       "      }\n",
       "      quickchartButtonEl.classList.remove('colab-df-spinner');\n",
       "      quickchartButtonEl.classList.add('colab-df-quickchart-complete');\n",
       "    }\n",
       "    (() => {\n",
       "      let quickchartButtonEl =\n",
       "        document.querySelector('#df-e85859e0-6968-4fae-a4ff-7aa7d746c262 button');\n",
       "      quickchartButtonEl.style.display =\n",
       "        google.colab.kernel.accessAllowed ? 'block' : 'none';\n",
       "    })();\n",
       "  </script>\n",
       "</div>\n",
       "\n",
       "    </div>\n",
       "  </div>\n"
      ],
      "text/plain": [
       "  TableName SeriesCode LineNumber     LineDescription TimePeriod  \\\n",
       "0   T20700A     A034RC          1  Wages and salaries    1959M01   \n",
       "1   T20700A     A034RC          1  Wages and salaries    1959M02   \n",
       "2   T20700A     A034RC          1  Wages and salaries    1959M03   \n",
       "3   T20700A     A034RC          1  Wages and salaries    1959M04   \n",
       "4   T20700A     A034RC          1  Wages and salaries    1959M05   \n",
       "\n",
       "       METRIC_NAME CL_UNIT UNIT_MULT DataValue  NoteRef  \n",
       "0  Current Dollars   Level         6   252,298  T20700A  \n",
       "1  Current Dollars   Level         6   253,622  T20700A  \n",
       "2  Current Dollars   Level         6   256,113  T20700A  \n",
       "3  Current Dollars   Level         6   258,588  T20700A  \n",
       "4  Current Dollars   Level         6   260,792  T20700A  "
      ]
     },
     "execution_count": 79,
     "metadata": {},
     "output_type": "execute_result"
    }
   ],
   "source": [
    "table_name = res['Statistic']\n",
    "table_production_time = res['UTCProductionTime']\n",
    "table_notes = [n['NoteText'] for n in res['Notes']]\n",
    "table_data = res['Data']\n",
    "print(f\"\\nTable {table_name} produced at: {table_production_time}\")\n",
    "print('\\n' + '\\n'.join(table_notes))\n",
    "\n",
    "df = pd.DataFrame(table_data)\n",
    "df.head()"
   ]
  },
  {
   "cell_type": "code",
   "execution_count": 82,
   "metadata": {
    "colab": {
     "base_uri": "https://localhost:8080/",
     "height": 175
    },
    "id": "U6mmB_UqqeGV",
    "outputId": "62070897-a063-403d-90ef-b708bae609ae"
   },
   "outputs": [
    {
     "data": {
      "application/vnd.google.colaboratory.intrinsic+json": {
       "summary": "{\n  \"name\": \"df\",\n  \"rows\": 4,\n  \"fields\": [\n    {\n      \"column\": \"TableName\",\n      \"properties\": {\n        \"dtype\": \"string\",\n        \"num_unique_values\": 3,\n        \"samples\": [\n          \"3528\",\n          1,\n          \"T20700A\"\n        ],\n        \"semantic_type\": \"\",\n        \"description\": \"\"\n      }\n    },\n    {\n      \"column\": \"SeriesCode\",\n      \"properties\": {\n        \"dtype\": \"string\",\n        \"num_unique_values\": 4,\n        \"samples\": [\n          7,\n          \"504\",\n          \"3528\"\n        ],\n        \"semantic_type\": \"\",\n        \"description\": \"\"\n      }\n    },\n    {\n      \"column\": \"LineNumber\",\n      \"properties\": {\n        \"dtype\": \"string\",\n        \"num_unique_values\": 4,\n        \"samples\": [\n          7,\n          \"504\",\n          \"3528\"\n        ],\n        \"semantic_type\": \"\",\n        \"description\": \"\"\n      }\n    },\n    {\n      \"column\": \"LineDescription\",\n      \"properties\": {\n        \"dtype\": \"string\",\n        \"num_unique_values\": 4,\n        \"samples\": [\n          7,\n          \"504\",\n          \"3528\"\n        ],\n        \"semantic_type\": \"\",\n        \"description\": \"\"\n      }\n    },\n    {\n      \"column\": \"TimePeriod\",\n      \"properties\": {\n        \"dtype\": \"string\",\n        \"num_unique_values\": 4,\n        \"samples\": [\n          504,\n          \"7\",\n          \"3528\"\n        ],\n        \"semantic_type\": \"\",\n        \"description\": \"\"\n      }\n    },\n    {\n      \"column\": \"METRIC_NAME\",\n      \"properties\": {\n        \"dtype\": \"string\",\n        \"num_unique_values\": 3,\n        \"samples\": [\n          \"3528\",\n          1,\n          \"Current Dollars\"\n        ],\n        \"semantic_type\": \"\",\n        \"description\": \"\"\n      }\n    },\n    {\n      \"column\": \"CL_UNIT\",\n      \"properties\": {\n        \"dtype\": \"string\",\n        \"num_unique_values\": 3,\n        \"samples\": [\n          \"3528\",\n          1,\n          \"Level\"\n        ],\n        \"semantic_type\": \"\",\n        \"description\": \"\"\n      }\n    },\n    {\n      \"column\": \"UNIT_MULT\",\n      \"properties\": {\n        \"dtype\": \"string\",\n        \"num_unique_values\": 3,\n        \"samples\": [\n          \"3528\",\n          1,\n          \"6\"\n        ],\n        \"semantic_type\": \"\",\n        \"description\": \"\"\n      }\n    },\n    {\n      \"column\": \"DataValue\",\n      \"properties\": {\n        \"dtype\": \"string\",\n        \"num_unique_values\": 4,\n        \"samples\": [\n          3526,\n          \"2\",\n          \"3528\"\n        ],\n        \"semantic_type\": \"\",\n        \"description\": \"\"\n      }\n    },\n    {\n      \"column\": \"NoteRef\",\n      \"properties\": {\n        \"dtype\": \"string\",\n        \"num_unique_values\": 3,\n        \"samples\": [\n          \"3528\",\n          1,\n          \"T20700A\"\n        ],\n        \"semantic_type\": \"\",\n        \"description\": \"\"\n      }\n    }\n  ]\n}",
       "type": "dataframe"
      },
      "text/html": [
       "\n",
       "  <div id=\"df-8300a463-209d-4fe5-8ff6-902fd46ffc92\" class=\"colab-df-container\">\n",
       "    <div>\n",
       "<style scoped>\n",
       "    .dataframe tbody tr th:only-of-type {\n",
       "        vertical-align: middle;\n",
       "    }\n",
       "\n",
       "    .dataframe tbody tr th {\n",
       "        vertical-align: top;\n",
       "    }\n",
       "\n",
       "    .dataframe thead th {\n",
       "        text-align: right;\n",
       "    }\n",
       "</style>\n",
       "<table border=\"1\" class=\"dataframe\">\n",
       "  <thead>\n",
       "    <tr style=\"text-align: right;\">\n",
       "      <th></th>\n",
       "      <th>TableName</th>\n",
       "      <th>SeriesCode</th>\n",
       "      <th>LineNumber</th>\n",
       "      <th>LineDescription</th>\n",
       "      <th>TimePeriod</th>\n",
       "      <th>METRIC_NAME</th>\n",
       "      <th>CL_UNIT</th>\n",
       "      <th>UNIT_MULT</th>\n",
       "      <th>DataValue</th>\n",
       "      <th>NoteRef</th>\n",
       "    </tr>\n",
       "  </thead>\n",
       "  <tbody>\n",
       "    <tr>\n",
       "      <th>count</th>\n",
       "      <td>3528</td>\n",
       "      <td>3528</td>\n",
       "      <td>3528</td>\n",
       "      <td>3528</td>\n",
       "      <td>3528</td>\n",
       "      <td>3528</td>\n",
       "      <td>3528</td>\n",
       "      <td>3528</td>\n",
       "      <td>3528</td>\n",
       "      <td>3528</td>\n",
       "    </tr>\n",
       "    <tr>\n",
       "      <th>unique</th>\n",
       "      <td>1</td>\n",
       "      <td>7</td>\n",
       "      <td>7</td>\n",
       "      <td>7</td>\n",
       "      <td>504</td>\n",
       "      <td>1</td>\n",
       "      <td>1</td>\n",
       "      <td>1</td>\n",
       "      <td>3526</td>\n",
       "      <td>1</td>\n",
       "    </tr>\n",
       "    <tr>\n",
       "      <th>top</th>\n",
       "      <td>T20700A</td>\n",
       "      <td>A034RC</td>\n",
       "      <td>1</td>\n",
       "      <td>Wages and salaries</td>\n",
       "      <td>2000M12</td>\n",
       "      <td>Current Dollars</td>\n",
       "      <td>Level</td>\n",
       "      <td>6</td>\n",
       "      <td>612,602</td>\n",
       "      <td>T20700A</td>\n",
       "    </tr>\n",
       "    <tr>\n",
       "      <th>freq</th>\n",
       "      <td>3528</td>\n",
       "      <td>504</td>\n",
       "      <td>504</td>\n",
       "      <td>504</td>\n",
       "      <td>7</td>\n",
       "      <td>3528</td>\n",
       "      <td>3528</td>\n",
       "      <td>3528</td>\n",
       "      <td>2</td>\n",
       "      <td>3528</td>\n",
       "    </tr>\n",
       "  </tbody>\n",
       "</table>\n",
       "</div>\n",
       "    <div class=\"colab-df-buttons\">\n",
       "\n",
       "  <div class=\"colab-df-container\">\n",
       "    <button class=\"colab-df-convert\" onclick=\"convertToInteractive('df-8300a463-209d-4fe5-8ff6-902fd46ffc92')\"\n",
       "            title=\"Convert this dataframe to an interactive table.\"\n",
       "            style=\"display:none;\">\n",
       "\n",
       "  <svg xmlns=\"http://www.w3.org/2000/svg\" height=\"24px\" viewBox=\"0 -960 960 960\">\n",
       "    <path d=\"M120-120v-720h720v720H120Zm60-500h600v-160H180v160Zm220 220h160v-160H400v160Zm0 220h160v-160H400v160ZM180-400h160v-160H180v160Zm440 0h160v-160H620v160ZM180-180h160v-160H180v160Zm440 0h160v-160H620v160Z\"/>\n",
       "  </svg>\n",
       "    </button>\n",
       "\n",
       "  <style>\n",
       "    .colab-df-container {\n",
       "      display:flex;\n",
       "      gap: 12px;\n",
       "    }\n",
       "\n",
       "    .colab-df-convert {\n",
       "      background-color: #E8F0FE;\n",
       "      border: none;\n",
       "      border-radius: 50%;\n",
       "      cursor: pointer;\n",
       "      display: none;\n",
       "      fill: #1967D2;\n",
       "      height: 32px;\n",
       "      padding: 0 0 0 0;\n",
       "      width: 32px;\n",
       "    }\n",
       "\n",
       "    .colab-df-convert:hover {\n",
       "      background-color: #E2EBFA;\n",
       "      box-shadow: 0px 1px 2px rgba(60, 64, 67, 0.3), 0px 1px 3px 1px rgba(60, 64, 67, 0.15);\n",
       "      fill: #174EA6;\n",
       "    }\n",
       "\n",
       "    .colab-df-buttons div {\n",
       "      margin-bottom: 4px;\n",
       "    }\n",
       "\n",
       "    [theme=dark] .colab-df-convert {\n",
       "      background-color: #3B4455;\n",
       "      fill: #D2E3FC;\n",
       "    }\n",
       "\n",
       "    [theme=dark] .colab-df-convert:hover {\n",
       "      background-color: #434B5C;\n",
       "      box-shadow: 0px 1px 3px 1px rgba(0, 0, 0, 0.15);\n",
       "      filter: drop-shadow(0px 1px 2px rgba(0, 0, 0, 0.3));\n",
       "      fill: #FFFFFF;\n",
       "    }\n",
       "  </style>\n",
       "\n",
       "    <script>\n",
       "      const buttonEl =\n",
       "        document.querySelector('#df-8300a463-209d-4fe5-8ff6-902fd46ffc92 button.colab-df-convert');\n",
       "      buttonEl.style.display =\n",
       "        google.colab.kernel.accessAllowed ? 'block' : 'none';\n",
       "\n",
       "      async function convertToInteractive(key) {\n",
       "        const element = document.querySelector('#df-8300a463-209d-4fe5-8ff6-902fd46ffc92');\n",
       "        const dataTable =\n",
       "          await google.colab.kernel.invokeFunction('convertToInteractive',\n",
       "                                                    [key], {});\n",
       "        if (!dataTable) return;\n",
       "\n",
       "        const docLinkHtml = 'Like what you see? Visit the ' +\n",
       "          '<a target=\"_blank\" href=https://colab.research.google.com/notebooks/data_table.ipynb>data table notebook</a>'\n",
       "          + ' to learn more about interactive tables.';\n",
       "        element.innerHTML = '';\n",
       "        dataTable['output_type'] = 'display_data';\n",
       "        await google.colab.output.renderOutput(dataTable, element);\n",
       "        const docLink = document.createElement('div');\n",
       "        docLink.innerHTML = docLinkHtml;\n",
       "        element.appendChild(docLink);\n",
       "      }\n",
       "    </script>\n",
       "  </div>\n",
       "\n",
       "\n",
       "<div id=\"df-83d85002-6a25-463c-a2c3-1db437e77451\">\n",
       "  <button class=\"colab-df-quickchart\" onclick=\"quickchart('df-83d85002-6a25-463c-a2c3-1db437e77451')\"\n",
       "            title=\"Suggest charts\"\n",
       "            style=\"display:none;\">\n",
       "\n",
       "<svg xmlns=\"http://www.w3.org/2000/svg\" height=\"24px\"viewBox=\"0 0 24 24\"\n",
       "     width=\"24px\">\n",
       "    <g>\n",
       "        <path d=\"M19 3H5c-1.1 0-2 .9-2 2v14c0 1.1.9 2 2 2h14c1.1 0 2-.9 2-2V5c0-1.1-.9-2-2-2zM9 17H7v-7h2v7zm4 0h-2V7h2v10zm4 0h-2v-4h2v4z\"/>\n",
       "    </g>\n",
       "</svg>\n",
       "  </button>\n",
       "\n",
       "<style>\n",
       "  .colab-df-quickchart {\n",
       "      --bg-color: #E8F0FE;\n",
       "      --fill-color: #1967D2;\n",
       "      --hover-bg-color: #E2EBFA;\n",
       "      --hover-fill-color: #174EA6;\n",
       "      --disabled-fill-color: #AAA;\n",
       "      --disabled-bg-color: #DDD;\n",
       "  }\n",
       "\n",
       "  [theme=dark] .colab-df-quickchart {\n",
       "      --bg-color: #3B4455;\n",
       "      --fill-color: #D2E3FC;\n",
       "      --hover-bg-color: #434B5C;\n",
       "      --hover-fill-color: #FFFFFF;\n",
       "      --disabled-bg-color: #3B4455;\n",
       "      --disabled-fill-color: #666;\n",
       "  }\n",
       "\n",
       "  .colab-df-quickchart {\n",
       "    background-color: var(--bg-color);\n",
       "    border: none;\n",
       "    border-radius: 50%;\n",
       "    cursor: pointer;\n",
       "    display: none;\n",
       "    fill: var(--fill-color);\n",
       "    height: 32px;\n",
       "    padding: 0;\n",
       "    width: 32px;\n",
       "  }\n",
       "\n",
       "  .colab-df-quickchart:hover {\n",
       "    background-color: var(--hover-bg-color);\n",
       "    box-shadow: 0 1px 2px rgba(60, 64, 67, 0.3), 0 1px 3px 1px rgba(60, 64, 67, 0.15);\n",
       "    fill: var(--button-hover-fill-color);\n",
       "  }\n",
       "\n",
       "  .colab-df-quickchart-complete:disabled,\n",
       "  .colab-df-quickchart-complete:disabled:hover {\n",
       "    background-color: var(--disabled-bg-color);\n",
       "    fill: var(--disabled-fill-color);\n",
       "    box-shadow: none;\n",
       "  }\n",
       "\n",
       "  .colab-df-spinner {\n",
       "    border: 2px solid var(--fill-color);\n",
       "    border-color: transparent;\n",
       "    border-bottom-color: var(--fill-color);\n",
       "    animation:\n",
       "      spin 1s steps(1) infinite;\n",
       "  }\n",
       "\n",
       "  @keyframes spin {\n",
       "    0% {\n",
       "      border-color: transparent;\n",
       "      border-bottom-color: var(--fill-color);\n",
       "      border-left-color: var(--fill-color);\n",
       "    }\n",
       "    20% {\n",
       "      border-color: transparent;\n",
       "      border-left-color: var(--fill-color);\n",
       "      border-top-color: var(--fill-color);\n",
       "    }\n",
       "    30% {\n",
       "      border-color: transparent;\n",
       "      border-left-color: var(--fill-color);\n",
       "      border-top-color: var(--fill-color);\n",
       "      border-right-color: var(--fill-color);\n",
       "    }\n",
       "    40% {\n",
       "      border-color: transparent;\n",
       "      border-right-color: var(--fill-color);\n",
       "      border-top-color: var(--fill-color);\n",
       "    }\n",
       "    60% {\n",
       "      border-color: transparent;\n",
       "      border-right-color: var(--fill-color);\n",
       "    }\n",
       "    80% {\n",
       "      border-color: transparent;\n",
       "      border-right-color: var(--fill-color);\n",
       "      border-bottom-color: var(--fill-color);\n",
       "    }\n",
       "    90% {\n",
       "      border-color: transparent;\n",
       "      border-bottom-color: var(--fill-color);\n",
       "    }\n",
       "  }\n",
       "</style>\n",
       "\n",
       "  <script>\n",
       "    async function quickchart(key) {\n",
       "      const quickchartButtonEl =\n",
       "        document.querySelector('#' + key + ' button');\n",
       "      quickchartButtonEl.disabled = true;  // To prevent multiple clicks.\n",
       "      quickchartButtonEl.classList.add('colab-df-spinner');\n",
       "      try {\n",
       "        const charts = await google.colab.kernel.invokeFunction(\n",
       "            'suggestCharts', [key], {});\n",
       "      } catch (error) {\n",
       "        console.error('Error during call to suggestCharts:', error);\n",
       "      }\n",
       "      quickchartButtonEl.classList.remove('colab-df-spinner');\n",
       "      quickchartButtonEl.classList.add('colab-df-quickchart-complete');\n",
       "    }\n",
       "    (() => {\n",
       "      let quickchartButtonEl =\n",
       "        document.querySelector('#df-83d85002-6a25-463c-a2c3-1db437e77451 button');\n",
       "      quickchartButtonEl.style.display =\n",
       "        google.colab.kernel.accessAllowed ? 'block' : 'none';\n",
       "    })();\n",
       "  </script>\n",
       "</div>\n",
       "\n",
       "    </div>\n",
       "  </div>\n"
      ],
      "text/plain": [
       "       TableName SeriesCode LineNumber     LineDescription TimePeriod  \\\n",
       "count       3528       3528       3528                3528       3528   \n",
       "unique         1          7          7                   7        504   \n",
       "top      T20700A     A034RC          1  Wages and salaries    2000M12   \n",
       "freq        3528        504        504                 504          7   \n",
       "\n",
       "            METRIC_NAME CL_UNIT UNIT_MULT DataValue  NoteRef  \n",
       "count              3528    3528      3528      3528     3528  \n",
       "unique                1       1         1      3526        1  \n",
       "top     Current Dollars   Level         6   612,602  T20700A  \n",
       "freq               3528    3528      3528         2     3528  "
      ]
     },
     "execution_count": 82,
     "metadata": {},
     "output_type": "execute_result"
    }
   ],
   "source": [
    "df.describe()"
   ]
  },
  {
   "cell_type": "code",
   "execution_count": null,
   "metadata": {
    "id": "bhggxwO0sXI6"
   },
   "outputs": [],
   "source": []
  },
  {
   "cell_type": "code",
   "execution_count": null,
   "metadata": {
    "id": "EOdUC-4S1Bur"
   },
   "outputs": [],
   "source": []
  },
  {
   "cell_type": "markdown",
   "metadata": {
    "id": "ZnKd979Dtixx"
   },
   "source": [
    "## Standard NI underlying detail tables"
   ]
  },
  {
   "cell_type": "code",
   "execution_count": 95,
   "metadata": {
    "colab": {
     "base_uri": "https://localhost:8080/"
    },
    "id": "ny4ZRrWBuA5J",
    "outputId": "9b143eda-48a4-46c1-aa8c-450c6d27d564"
   },
   "outputs": [
    {
     "name": "stdout",
     "output_type": "stream",
     "text": [
      "[{'AllValue': '',\n",
      "  'MultipleAcceptedFlag': '1',\n",
      "  'ParameterDataType': 'string',\n",
      "  'ParameterDefaultValue': '',\n",
      "  'ParameterDescription': 'A - Annual, Q-Quarterly, M-Monthly',\n",
      "  'ParameterIsRequiredFlag': '1',\n",
      "  'ParameterName': 'Frequency'},\n",
      " {'AllValue': '',\n",
      "  'MultipleAcceptedFlag': '0',\n",
      "  'ParameterDataType': 'integer',\n",
      "  'ParameterDescription': 'The standard NI underlying detail table identifier',\n",
      "  'ParameterIsRequiredFlag': '0',\n",
      "  'ParameterName': 'TableID'},\n",
      " {'AllValue': '',\n",
      "  'MultipleAcceptedFlag': '0',\n",
      "  'ParameterDataType': 'string',\n",
      "  'ParameterDescription': 'The new NIPA table identifier',\n",
      "  'ParameterIsRequiredFlag': '0',\n",
      "  'ParameterName': 'TableName'},\n",
      " {'AllValue': 'X',\n",
      "  'MultipleAcceptedFlag': '1',\n",
      "  'ParameterDataType': 'integer',\n",
      "  'ParameterDefaultValue': '',\n",
      "  'ParameterDescription': 'List of year(s) of data to retrieve (X for All)',\n",
      "  'ParameterIsRequiredFlag': '1',\n",
      "  'ParameterName': 'Year'}]\n"
     ]
    }
   ],
   "source": [
    "pprint(bea_get_parameter_list('NIUnderlyingDetail'))"
   ]
  },
  {
   "cell_type": "markdown",
   "metadata": {
    "id": "f5m2P0a2tlKG"
   },
   "source": [
    "## Multinational Enterprises"
   ]
  },
  {
   "cell_type": "code",
   "execution_count": 96,
   "metadata": {
    "colab": {
     "base_uri": "https://localhost:8080/"
    },
    "id": "YOjs_wu_uBP3",
    "outputId": "c0f17db9-b61d-4feb-80c6-f97586267c34"
   },
   "outputs": [
    {
     "name": "stdout",
     "output_type": "stream",
     "text": [
      "[{'MultipleAcceptedFlag': '0',\n",
      "  'ParameterDataType': 'string',\n",
      "  'ParameterDefaultValue': '',\n",
      "  'ParameterDescription': 'Four Possible Values:  '\n",
      "                          '(inward,outward,parent,state)',\n",
      "  'ParameterIsRequiredFlag': '1',\n",
      "  'ParameterName': 'DirectionOfInvestment'},\n",
      " {'MultipleAcceptedFlag': '0',\n",
      "  'ParameterDataType': 'integer',\n",
      "  'ParameterDefaultValue': '2',\n",
      "  'ParameterDescription': 'A value of 1 returns data for all affiliates.  A '\n",
      "                          'value of 0 returns data for majority-owned '\n",
      "                          'affiliates only.  Note that if '\n",
      "                          \"directionOfInvestment = 'parent', then \"\n",
      "                          'OwnershipLevel must be set to 1.',\n",
      "  'ParameterIsRequiredFlag': '0',\n",
      "  'ParameterName': 'OwnershipLevel'},\n",
      " {'MultipleAcceptedFlag': '0',\n",
      "  'ParameterDataType': 'integer',\n",
      "  'ParameterDefaultValue': '2',\n",
      "  'ParameterDescription': 'A value of 1 returns data for nonbank affiliates '\n",
      "                          'only.  A value of 0 returns data for both bank and '\n",
      "                          'nonbank affiliates.  A value of 0 is required for '\n",
      "                          'data for 2007 forward (for FDIUS) for 2009 forward '\n",
      "                          '(for USDIA).',\n",
      "  'ParameterIsRequiredFlag': '0',\n",
      "  'ParameterName': 'NonbankAffiliatesOnly'},\n",
      " {'MultipleAcceptedFlag': '0',\n",
      "  'ParameterDataType': 'string',\n",
      "  'ParameterDescription': 'Classification is a string used to obtain data that '\n",
      "                          'is broken down by both country and industry for '\n",
      "                          'either inward or outward data.  It can take one of '\n",
      "                          'four possible values:',\n",
      "  'ParameterIsRequiredFlag': '1',\n",
      "  'ParameterName': 'Classification '},\n",
      " {'AllValue': 'all',\n",
      "  'MultipleAcceptedFlag': '1',\n",
      "  'ParameterDataType': 'string',\n",
      "  'ParameterDescription': 'Country is usually a number.  Because there can be '\n",
      "                          \"several variants of a country's name, three-digit \"\n",
      "                          'numeric codes are used to select countries.  A full '\n",
      "                          'list of these codes is available near the end of '\n",
      "                          'this document or can be obtained by using the '\n",
      "                          'GETPARAMETERVALUES method.  To obtain data for '\n",
      "                          'every country (including the all-country total) '\n",
      "                          \"separately use 'all'.  To obtain a total for all \"\n",
      "                          \"countries, use '0000'.   To obtain data for \"\n",
      "                          'multiple countries, each country code should be '\n",
      "                          'listed and separated by a comma.',\n",
      "  'ParameterIsRequiredFlag': '0',\n",
      "  'ParameterName': 'Country'},\n",
      " {'AllValue': 'all',\n",
      "  'MultipleAcceptedFlag': '1',\n",
      "  'ParameterDataType': 'string',\n",
      "  'ParameterDescription': 'Industries are denoted by four-digit codes.  With a '\n",
      "                          'few exceptions, these codes follow the NAICS. To '\n",
      "                          'obtain data for every industry separately use '\n",
      "                          \"'all'.  To obtain a total for all industries, use \"\n",
      "                          \"'0000'.\",\n",
      "  'ParameterIsRequiredFlag': '0',\n",
      "  'ParameterName': 'Industry'},\n",
      " {'AllValue': 'all',\n",
      "  'MultipleAcceptedFlag': '1',\n",
      "  'ParameterDataType': 'integer',\n",
      "  'ParameterDefaultValue': '',\n",
      "  'ParameterDescription': 'Year is a 4-digit numeric variable.  To obtain data '\n",
      "                          'for multiple years, each year should be listed and '\n",
      "                          'separated by a comma. To obtain data for all years '\n",
      "                          \"use 'all'.\",\n",
      "  'ParameterIsRequiredFlag': '1',\n",
      "  'ParameterName': 'Year'},\n",
      " {'AllValue': 'all',\n",
      "  'MultipleAcceptedFlag': '1',\n",
      "  'ParameterDataType': 'string',\n",
      "  'ParameterDescription': 'State specifies the U.S. state or states for data '\n",
      "                          'on foreign direct investment in the United States.  '\n",
      "                          'The state is specified by using the two-digit FIPS '\n",
      "                          'code.  For \"Other U.S. areas\", use code \\'70\\'.  '\n",
      "                          'For \"Foreign\", use code \\'75\\'.  To obtain data for '\n",
      "                          \"all states and areas use 'all'.  To obtain a total \"\n",
      "                          \"U.S. figure, use '90'.  \",\n",
      "  'ParameterIsRequiredFlag': '0',\n",
      "  'ParameterName': 'State'},\n",
      " {'AllValue': 'all',\n",
      "  'MultipleAcceptedFlag': '1',\n",
      "  'ParameterDataType': 'string',\n",
      "  'ParameterDefaultValue': 'all',\n",
      "  'ParameterDescription': 'Series IDs',\n",
      "  'ParameterIsRequiredFlag': '0',\n",
      "  'ParameterName': 'SeriesID'},\n",
      " {'MultipleAcceptedFlag': '0',\n",
      "  'ParameterDataType': 'string',\n",
      "  'ParameterDefaultValue': 'no',\n",
      "  'ParameterDescription': 'Footnotes for the datavalues',\n",
      "  'ParameterIsRequiredFlag': '0',\n",
      "  'ParameterName': 'GetFootnotes'},\n",
      " {'AllValue': 'all',\n",
      "  'MultipleAcceptedFlag': '1',\n",
      "  'ParameterDataType': 'string',\n",
      "  'ParameterDescription': 'Investments are denoted by Three-digit codes. To '\n",
      "                          'obtain data for every investment separately use '\n",
      "                          \"'all'.  To obtain a total for all investments, use \"\n",
      "                          \"'000'.\",\n",
      "  'ParameterIsRequiredFlag': '0',\n",
      "  'ParameterName': 'Investment'},\n",
      " {'AllValue': 'all',\n",
      "  'MultipleAcceptedFlag': '1',\n",
      "  'ParameterDataType': 'string',\n",
      "  'ParameterDescription': 'Investments are denoted by Three-digit codes. To '\n",
      "                          'obtain data for every investment separately use '\n",
      "                          \"'all'.  To obtain a total for all investments, use \"\n",
      "                          \"'000'.\",\n",
      "  'ParameterIsRequiredFlag': '0',\n",
      "  'ParameterName': 'ParentInvestment'}]\n"
     ]
    }
   ],
   "source": [
    "pprint(bea_get_parameter_list('MNE'))"
   ]
  },
  {
   "cell_type": "markdown",
   "metadata": {
    "id": "jDMAK8jctnYU"
   },
   "source": [
    "## Standard Fixed Assets tables"
   ]
  },
  {
   "cell_type": "code",
   "execution_count": 97,
   "metadata": {
    "colab": {
     "base_uri": "https://localhost:8080/"
    },
    "id": "2T0EPPOnuBwb",
    "outputId": "f4b888c7-0943-4058-e79e-5318a0d32fb1"
   },
   "outputs": [
    {
     "name": "stdout",
     "output_type": "stream",
     "text": [
      "[{'AllValue': '',\n",
      "  'MultipleAcceptedFlag': '0',\n",
      "  'ParameterDataType': 'string',\n",
      "  'ParameterDefaultValue': '',\n",
      "  'ParameterDescription': 'The new Fixed Assets identifier',\n",
      "  'ParameterIsRequiredFlag': '1',\n",
      "  'ParameterName': 'TableName'},\n",
      " {'AllValue': 'X',\n",
      "  'MultipleAcceptedFlag': '1',\n",
      "  'ParameterDataType': 'integer',\n",
      "  'ParameterDefaultValue': '',\n",
      "  'ParameterDescription': 'List of year(s) of data to retrieve (X for All)',\n",
      "  'ParameterIsRequiredFlag': '1',\n",
      "  'ParameterName': 'Year'}]\n"
     ]
    }
   ],
   "source": [
    "pprint(bea_get_parameter_list('FixedAssets'))"
   ]
  },
  {
   "cell_type": "markdown",
   "metadata": {
    "id": "mnuUt8Xatpmk"
   },
   "source": [
    "## International Transactions Accounts"
   ]
  },
  {
   "cell_type": "code",
   "execution_count": 98,
   "metadata": {
    "colab": {
     "base_uri": "https://localhost:8080/"
    },
    "id": "Yd04vFQ_uCRb",
    "outputId": "a48faa50-7d56-4bb2-d4fe-6d8166588319"
   },
   "outputs": [
    {
     "name": "stdout",
     "output_type": "stream",
     "text": [
      "[{'AllValue': 'ALL',\n",
      "  'MultipleAcceptedFlag': '1',\n",
      "  'ParameterDataType': 'string',\n",
      "  'ParameterDefaultValue': 'ALL',\n",
      "  'ParameterDescription': 'The indicator code for the type of transaction '\n",
      "                          'requested',\n",
      "  'ParameterIsRequiredFlag': '0',\n",
      "  'ParameterName': 'Indicator'},\n",
      " {'AllValue': 'ALL',\n",
      "  'MultipleAcceptedFlag': '1',\n",
      "  'ParameterDataType': 'string',\n",
      "  'ParameterDefaultValue': 'AllCountries',\n",
      "  'ParameterDescription': 'The area or country requested',\n",
      "  'ParameterIsRequiredFlag': '0',\n",
      "  'ParameterName': 'AreaOrCountry'},\n",
      " {'AllValue': 'ALL',\n",
      "  'MultipleAcceptedFlag': '1',\n",
      "  'ParameterDataType': 'string',\n",
      "  'ParameterDefaultValue': 'ALL',\n",
      "  'ParameterDescription': 'A - Annual, QSA - Quarterly seasonally adjusted, '\n",
      "                          'QNSA - Quarterly not seasonally adjusted',\n",
      "  'ParameterIsRequiredFlag': '0',\n",
      "  'ParameterName': 'Frequency'},\n",
      " {'AllValue': 'ALL',\n",
      "  'MultipleAcceptedFlag': '1',\n",
      "  'ParameterDataType': 'string',\n",
      "  'ParameterDefaultValue': 'ALL',\n",
      "  'ParameterDescription': 'Year requested',\n",
      "  'ParameterIsRequiredFlag': '0',\n",
      "  'ParameterName': 'Year'}]\n"
     ]
    }
   ],
   "source": [
    "pprint(bea_get_parameter_list('ITA'))"
   ]
  },
  {
   "cell_type": "markdown",
   "metadata": {
    "id": "N5oAns-Otr0L"
   },
   "source": [
    "## International Investment Position"
   ]
  },
  {
   "cell_type": "code",
   "execution_count": 99,
   "metadata": {
    "colab": {
     "base_uri": "https://localhost:8080/"
    },
    "id": "rKNoKZHctuuy",
    "outputId": "b7da5a9f-64ae-45e5-b466-be158c950c12"
   },
   "outputs": [
    {
     "name": "stdout",
     "output_type": "stream",
     "text": [
      "[{'AllValue': 'ALL',\n",
      "  'MultipleAcceptedFlag': '1',\n",
      "  'ParameterDataType': 'string',\n",
      "  'ParameterDefaultValue': 'ALL',\n",
      "  'ParameterDescription': 'Type of investment',\n",
      "  'ParameterIsRequiredFlag': '0',\n",
      "  'ParameterName': 'TypeOfInvestment'},\n",
      " {'AllValue': 'ALL',\n",
      "  'MultipleAcceptedFlag': '1',\n",
      "  'ParameterDataType': 'string',\n",
      "  'ParameterDefaultValue': 'ALL',\n",
      "  'ParameterDescription': 'Component of changes in position',\n",
      "  'ParameterIsRequiredFlag': '0',\n",
      "  'ParameterName': 'Component'},\n",
      " {'AllValue': 'ALL',\n",
      "  'MultipleAcceptedFlag': '1',\n",
      "  'ParameterDataType': 'string',\n",
      "  'ParameterDefaultValue': 'ALL',\n",
      "  'ParameterDescription': 'A - Annual, QNSA - Quarterly not seasonally '\n",
      "                          'adjusted',\n",
      "  'ParameterIsRequiredFlag': '0',\n",
      "  'ParameterName': 'Frequency'},\n",
      " {'AllValue': 'ALL',\n",
      "  'MultipleAcceptedFlag': '1',\n",
      "  'ParameterDataType': 'string',\n",
      "  'ParameterDefaultValue': 'ALL',\n",
      "  'ParameterDescription': 'Year requested',\n",
      "  'ParameterIsRequiredFlag': '0',\n",
      "  'ParameterName': 'Year'}]\n"
     ]
    }
   ],
   "source": [
    "pprint(bea_get_parameter_list('IIP'))"
   ]
  },
  {
   "cell_type": "markdown",
   "metadata": {
    "id": "rtAN399nur4O"
   },
   "source": [
    "## Input Output"
   ]
  },
  {
   "cell_type": "code",
   "execution_count": 100,
   "metadata": {
    "colab": {
     "base_uri": "https://localhost:8080/"
    },
    "id": "gYCCwJHmur-y",
    "outputId": "f41fde92-e8e6-461e-e7fb-7640c647d963"
   },
   "outputs": [
    {
     "name": "stdout",
     "output_type": "stream",
     "text": [
      "[{'AllValue': '',\n",
      "  'MultipleAcceptedFlag': '1',\n",
      "  'ParameterDataType': 'integer',\n",
      "  'ParameterDefaultValue': ' ',\n",
      "  'ParameterDescription': 'The unique Input-Output table identifier',\n",
      "  'ParameterIsRequiredFlag': '1',\n",
      "  'ParameterName': 'TableID'},\n",
      " {'AllValue': 'ALL',\n",
      "  'MultipleAcceptedFlag': '1',\n",
      "  'ParameterDataType': 'integer',\n",
      "  'ParameterDefaultValue': '',\n",
      "  'ParameterDescription': 'List of year(s) of data to retrieve (ALL for All)',\n",
      "  'ParameterIsRequiredFlag': '1',\n",
      "  'ParameterName': 'Year'}]\n"
     ]
    }
   ],
   "source": [
    "pprint(bea_get_parameter_list('InputOutput'))"
   ]
  },
  {
   "cell_type": "markdown",
   "metadata": {
    "id": "r_kjXJQFs0eJ"
   },
   "source": [
    "## Internal Services Trade"
   ]
  },
  {
   "cell_type": "code",
   "execution_count": 101,
   "metadata": {
    "colab": {
     "base_uri": "https://localhost:8080/"
    },
    "id": "u4VLgY16t2Y3",
    "outputId": "af94c8d7-eaf1-4531-e221-f92e520d6eb4"
   },
   "outputs": [
    {
     "name": "stdout",
     "output_type": "stream",
     "text": [
      "[{'AllValue': 'ALL',\n",
      "  'MultipleAcceptedFlag': '1',\n",
      "  'ParameterDataType': 'string',\n",
      "  'ParameterDefaultValue': 'ALL',\n",
      "  'ParameterDescription': 'The type of service requested',\n",
      "  'ParameterIsRequiredFlag': '0',\n",
      "  'ParameterName': 'TypeOfService'},\n",
      " {'AllValue': 'ALL',\n",
      "  'MultipleAcceptedFlag': '1',\n",
      "  'ParameterDataType': 'string',\n",
      "  'ParameterDefaultValue': 'ALL',\n",
      "  'ParameterDescription': 'The trade direction requested',\n",
      "  'ParameterIsRequiredFlag': '0',\n",
      "  'ParameterName': 'TradeDirection'},\n",
      " {'AllValue': 'ALL',\n",
      "  'MultipleAcceptedFlag': '1',\n",
      "  'ParameterDataType': 'string',\n",
      "  'ParameterDefaultValue': 'ALL',\n",
      "  'ParameterDescription': 'The affiliation requested',\n",
      "  'ParameterIsRequiredFlag': '0',\n",
      "  'ParameterName': 'Affiliation'},\n",
      " {'AllValue': 'ALL',\n",
      "  'MultipleAcceptedFlag': '1',\n",
      "  'ParameterDataType': 'string',\n",
      "  'ParameterDefaultValue': 'AllCountries',\n",
      "  'ParameterDescription': 'The area or country requested',\n",
      "  'ParameterIsRequiredFlag': '0',\n",
      "  'ParameterName': 'AreaOrCountry'},\n",
      " {'AllValue': 'ALL',\n",
      "  'MultipleAcceptedFlag': '1',\n",
      "  'ParameterDataType': 'string',\n",
      "  'ParameterDefaultValue': 'ALL',\n",
      "  'ParameterDescription': 'The year requested',\n",
      "  'ParameterIsRequiredFlag': '0',\n",
      "  'ParameterName': 'Year'}]\n"
     ]
    }
   ],
   "source": [
    "pprint(bea_get_parameter_list('IntlServTrade'))"
   ]
  },
  {
   "cell_type": "markdown",
   "metadata": {
    "id": "dgi7sMLntv1m"
   },
   "source": [
    "## International Services Supplied Through Affiliates"
   ]
  },
  {
   "cell_type": "code",
   "execution_count": 102,
   "metadata": {
    "colab": {
     "base_uri": "https://localhost:8080/"
    },
    "id": "5msQVLD_uAFI",
    "outputId": "b6a12e24-2522-4819-dcd6-5c3779a0a219"
   },
   "outputs": [
    {
     "name": "stdout",
     "output_type": "stream",
     "text": [
      "[{'AllValue': 'ALL',\n",
      "  'MultipleAcceptedFlag': '1',\n",
      "  'ParameterDataType': 'string',\n",
      "  'ParameterDefaultValue': 'ALL',\n",
      "  'ParameterDescription': 'The channel requested',\n",
      "  'ParameterIsRequiredFlag': '0',\n",
      "  'ParameterName': 'Channel'},\n",
      " {'AllValue': 'ALL',\n",
      "  'MultipleAcceptedFlag': '1',\n",
      "  'ParameterDataType': 'string',\n",
      "  'ParameterDefaultValue': 'ALL',\n",
      "  'ParameterDescription': 'The destination requested',\n",
      "  'ParameterIsRequiredFlag': '0',\n",
      "  'ParameterName': 'Destination'},\n",
      " {'AllValue': 'ALL',\n",
      "  'MultipleAcceptedFlag': '1',\n",
      "  'ParameterDataType': 'string',\n",
      "  'ParameterDefaultValue': 'ALL',\n",
      "  'ParameterDescription': 'The industry requested',\n",
      "  'ParameterIsRequiredFlag': '0',\n",
      "  'ParameterName': 'Industry'},\n",
      " {'AllValue': 'ALL',\n",
      "  'MultipleAcceptedFlag': '1',\n",
      "  'ParameterDataType': 'string',\n",
      "  'ParameterDefaultValue': 'AllCountries',\n",
      "  'ParameterDescription': 'The area or country requested',\n",
      "  'ParameterIsRequiredFlag': '0',\n",
      "  'ParameterName': 'AreaOrCountry'},\n",
      " {'AllValue': 'ALL',\n",
      "  'MultipleAcceptedFlag': '1',\n",
      "  'ParameterDataType': 'string',\n",
      "  'ParameterDefaultValue': 'ALL',\n",
      "  'ParameterDescription': 'The year requested',\n",
      "  'ParameterIsRequiredFlag': '0',\n",
      "  'ParameterName': 'Year'}]\n"
     ]
    }
   ],
   "source": [
    "pprint(bea_get_parameter_list('IntlServSTA'))"
   ]
  },
  {
   "cell_type": "markdown",
   "metadata": {
    "id": "tZHXP6F3t5j7"
   },
   "source": [
    "## GDP by Industry"
   ]
  },
  {
   "cell_type": "code",
   "execution_count": 103,
   "metadata": {
    "colab": {
     "base_uri": "https://localhost:8080/"
    },
    "id": "TlFkaig9t5qq",
    "outputId": "a0d18341-b76d-44c8-ddbc-95bf7cc21961"
   },
   "outputs": [
    {
     "name": "stdout",
     "output_type": "stream",
     "text": [
      "[{'AllValue': 'ALL',\n",
      "  'MultipleAcceptedFlag': '1',\n",
      "  'ParameterDataType': 'string',\n",
      "  'ParameterDefaultValue': '',\n",
      "  'ParameterDescription': 'A - Annual, Q-Quarterly',\n",
      "  'ParameterIsRequiredFlag': '1',\n",
      "  'ParameterName': 'Frequency'},\n",
      " {'AllValue': 'ALL',\n",
      "  'MultipleAcceptedFlag': '1',\n",
      "  'ParameterDataType': 'string',\n",
      "  'ParameterDefaultValue': '',\n",
      "  'ParameterDescription': 'List of industries to retrieve (ALL for All)',\n",
      "  'ParameterIsRequiredFlag': '1',\n",
      "  'ParameterName': 'Industry'},\n",
      " {'AllValue': 'ALL',\n",
      "  'MultipleAcceptedFlag': '1',\n",
      "  'ParameterDataType': 'integer',\n",
      "  'ParameterDefaultValue': '',\n",
      "  'ParameterDescription': 'The unique GDP by Industry table identifier (ALL '\n",
      "                          'for All)',\n",
      "  'ParameterIsRequiredFlag': '1',\n",
      "  'ParameterName': 'TableID'},\n",
      " {'AllValue': 'ALL',\n",
      "  'MultipleAcceptedFlag': '1',\n",
      "  'ParameterDataType': 'integer',\n",
      "  'ParameterDefaultValue': '',\n",
      "  'ParameterDescription': 'List of year(s) of data to retrieve (ALL for All)',\n",
      "  'ParameterIsRequiredFlag': '1',\n",
      "  'ParameterName': 'Year'}]\n"
     ]
    }
   ],
   "source": [
    "pprint(bea_get_parameter_list('GDPbyIndustry'))"
   ]
  },
  {
   "cell_type": "markdown",
   "metadata": {
    "id": "_w3D2LfmtEao"
   },
   "source": [
    "## Regional datasets"
   ]
  },
  {
   "cell_type": "code",
   "execution_count": 104,
   "metadata": {
    "colab": {
     "base_uri": "https://localhost:8080/"
    },
    "id": "9pZkM77cteDt",
    "outputId": "fdd4ad2d-4c44-4371-c6f1-4ef153a0fcf7"
   },
   "outputs": [
    {
     "name": "stdout",
     "output_type": "stream",
     "text": [
      "[{'MultipleAcceptedFlag': '1',\n",
      "  'ParameterDataType': 'string',\n",
      "  'ParameterDescription': 'Comma-delimited list of 5-character geographic '\n",
      "                          'codes; COUNTY for all counties, STATE for all '\n",
      "                          'states, MSA for all MSAs, MIC for all Micropolitan '\n",
      "                          'Areas, PORT for all state metro/nonmetro portions, '\n",
      "                          'DIV for all Metropolitan Divisions, CSA for all '\n",
      "                          'Combined Statistical Areas, state post office '\n",
      "                          'abbreviation for all counties in one state (e.g. '\n",
      "                          'NY)',\n",
      "  'ParameterIsRequiredFlag': '1',\n",
      "  'ParameterName': 'GeoFips'},\n",
      " {'MultipleAcceptedFlag': '0',\n",
      "  'ParameterDataType': 'integer',\n",
      "  'ParameterDescription': 'Line code for a statistic or industry',\n",
      "  'ParameterIsRequiredFlag': '1',\n",
      "  'ParameterName': 'LineCode'},\n",
      " {'MultipleAcceptedFlag': '0',\n",
      "  'ParameterDataType': 'string',\n",
      "  'ParameterDefaultValue': '',\n",
      "  'ParameterDescription': 'Regional income or product table to retrieve',\n",
      "  'ParameterIsRequiredFlag': '1',\n",
      "  'ParameterName': 'TableName'},\n",
      " {'MultipleAcceptedFlag': '1',\n",
      "  'ParameterDataType': 'string',\n",
      "  'ParameterDefaultValue': 'LAST5',\n",
      "  'ParameterDescription': 'Comma-delimted list of years; LAST5 for latest 5 '\n",
      "                          'years; LAST10 for latest 10 years; ALL for all '\n",
      "                          'years',\n",
      "  'ParameterIsRequiredFlag': '0',\n",
      "  'ParameterName': 'Year'}]\n"
     ]
    }
   ],
   "source": [
    "pprint(bea_get_parameter_list('Regional'))"
   ]
  },
  {
   "cell_type": "markdown",
   "metadata": {
    "id": "0OfEV5GftCqq"
   },
   "source": [
    "## UnderlyingGDPbyIndustry"
   ]
  },
  {
   "cell_type": "code",
   "execution_count": 105,
   "metadata": {
    "colab": {
     "base_uri": "https://localhost:8080/"
    },
    "id": "P4w3Zft7tKOE",
    "outputId": "f43d9fbb-18f2-43df-be8b-8f6df81489b1"
   },
   "outputs": [
    {
     "name": "stdout",
     "output_type": "stream",
     "text": [
      "[{'AllValue': 'ALL',\n",
      "  'MultipleAcceptedFlag': '1',\n",
      "  'ParameterDataType': 'string',\n",
      "  'ParameterDefaultValue': '',\n",
      "  'ParameterDescription': 'Q-Quarterly',\n",
      "  'ParameterIsRequiredFlag': '1',\n",
      "  'ParameterName': 'Frequency'},\n",
      " {'AllValue': 'ALL',\n",
      "  'MultipleAcceptedFlag': '1',\n",
      "  'ParameterDataType': 'string',\n",
      "  'ParameterDefaultValue': '',\n",
      "  'ParameterDescription': 'List of industries to retrieve (ALL for All)',\n",
      "  'ParameterIsRequiredFlag': '1',\n",
      "  'ParameterName': 'Industry'},\n",
      " {'AllValue': 'ALL',\n",
      "  'MultipleAcceptedFlag': '1',\n",
      "  'ParameterDataType': 'integer',\n",
      "  'ParameterDefaultValue': '',\n",
      "  'ParameterDescription': 'The unique Underlying GDP by Industry table '\n",
      "                          'identifier (ALL for All)',\n",
      "  'ParameterIsRequiredFlag': '1',\n",
      "  'ParameterName': 'TableID'},\n",
      " {'AllValue': 'ALL',\n",
      "  'MultipleAcceptedFlag': '1',\n",
      "  'ParameterDataType': 'integer',\n",
      "  'ParameterDefaultValue': '',\n",
      "  'ParameterDescription': 'List of year(s) of data to retrieve (ALL for All)',\n",
      "  'ParameterIsRequiredFlag': '1',\n",
      "  'ParameterName': 'Year'}]\n"
     ]
    }
   ],
   "source": [
    "pprint(bea_get_parameter_list('UnderlyingGDPbyIndustry'))"
   ]
  }
 ],
 "metadata": {
  "colab": {
   "authorship_tag": "ABX9TyOSj3gUXgK5ZeDg07cJ35uq",
   "include_colab_link": true,
   "provenance": []
  },
  "kernelspec": {
   "display_name": "Python 3 (ipykernel)",
   "language": "python",
   "name": "python3"
  },
  "language_info": {
   "codemirror_mode": {
    "name": "ipython",
    "version": 3
   },
   "file_extension": ".py",
   "mimetype": "text/x-python",
   "name": "python",
   "nbconvert_exporter": "python",
   "pygments_lexer": "ipython3",
   "version": "3.13.3"
  }
 },
 "nbformat": 4,
 "nbformat_minor": 4
}
